{
 "cells": [
  {
   "cell_type": "markdown",
   "id": "827630d5-386b-4474-b9b3-776951411894",
   "metadata": {},
   "source": [
    "K means Clustering is an unsupervised clustering algorithm, which groups unlabelled data into different clusters. Where K represents the number of clusters. \n",
    "1. First, we randomly initialize k points, called means or cluster centroids.\n",
    "2. \n",
    "We categorize each item to its closest mean and we update the mean’s coordinates, which are the averages of the items categorized in that cluster so far\n",
    "3. .4. \n",
    "We repeat the process for a given number of iterations and at the end, we have our cluster\n",
    "   s."
   ]
  },
  {
   "cell_type": "markdown",
   "id": "10cd5f5b-233f-4134-80f4-1cdc7e0be3dd",
   "metadata": {},
   "source": [
    "## Importing library"
   ]
  },
  {
   "cell_type": "code",
   "execution_count": null,
   "id": "feaa454f-a04a-4b1e-af77-c91bde88fee1",
   "metadata": {},
   "outputs": [],
   "source": [
    "import numpy as np\n",
    "import pandas as pd\n",
    "import matplotlib.pyplot as plt\n",
    "\n",
    "dataset_path = \"cc.csv\"\n",
    "data = pd.read_csv(dataset_path)\n",
    "data = data.drop(columns=['CUST_ID'])\n",
    "data = data.fillna(data.mean())\n",
    "\n",
    "data_array = data.to_numpy()\n",
    "\n",
    "# Define a function to compute the Euclidean distance between two points\n",
    "def euclidean_distance(point1, point2):\n",
    "    return np.sqrt(np.sum((point1 - point2) ** 2))\n",
    "\n",
    "# K-means implementation\n",
    "def kmeans(data_array, k, max_iterations=30):\n",
    "    # Randomly initialize the centroids\n",
    "    centroids = data_array[np.random.choice(data_array.shape[0], k, replace=False)]\n",
    "    \n",
    "    for _ in range(max_iterations):\n",
    "        # Assign each data point to the nearest centroid\n",
    "        labels = np.argmin(np.apply_along_axis(lambda x: [euclidean_distance(x, centroid) for centroid in centroids], 1, data_array), axis=1)\n",
    "        \n",
    "        # Update centroids by taking the mean of all data points assigned to each cluster\n",
    "        new_centroids = np.array([data_array[labels == i].mean(axis=0) for i in range(k)])\n",
    "        \n",
    "        # Check for convergence\n",
    "        if np.all(centroids == new_centroids):\n",
    "            break\n",
    "        \n",
    "        centroids = new_centroids\n",
    "    \n",
    "    return centroids, labels\n",
    "\n",
    "# Function to compute the total within-cluster sum of squares (WCSS)\n",
    "def compute_wcss(data, centroids, labels):\n",
    "    wcss = 0\n",
    "    for i in range(len(centroids)):\n",
    "        cluster_points = data[labels == i]\n",
    "        wcss += np.sum((cluster_points - centroids[i])**2)\n",
    "    return wcss\n",
    "\n",
    "# Elbow method to find the optimal K\n",
    "def find_optimal_k(data, max_k=10):\n",
    "    wcss_values = []\n",
    "    for k in range(1, max_k + 1):\n",
    "        centroids, labels = kmeans(data, k)\n",
    "        wcss = compute_wcss(data, centroids, labels)\n",
    "        wcss_values.append(wcss)\n",
    "    return wcss_values\n",
    "\n",
    "# Example usage\n",
    "wcss = find_optimal_k(data_array, max_k=10)\n",
    "\n",
    "# Plot the WCSS\n",
    "# plt.plot(range(1, 11), wcss)\n",
    "plt.plot(range(1,11), wcss, marker='o', linestyle='-')\n",
    "plt.xlabel('Number of Clusters (K)')\n",
    "plt.ylabel('Within-Cluster Sum of Squares (WCSS)')\n",
    "plt.title('Elbow Method for Optimal K')\n",
    "plt.show()\n"
   ]
  },
  {
   "cell_type": "code",
   "execution_count": null,
   "id": "443b29f9-b0a0-4bfd-ac7b-8bb5f49a1e63",
   "metadata": {},
   "outputs": [],
   "source": [
    "from sklearn.cluster import KMeans\n",
    "k_values = range(1, 11)\n",
    "wcss_sk = []\n",
    "\n",
    "for k in k_values:\n",
    "    kmeans = KMeans(n_clusters=k, random_state=0)\n",
    "    kmeans.fit(data_array)\n",
    "    wcss = kmeans.inertia_\n",
    "    wcss_sk.append(wcss)\n",
    "plt.plot(k_values, wcss_sk, marker='o', linestyle='-')\n",
    "plt.xlabel('Number of Clusters (K)')\n",
    "plt.ylabel('Within-Cluster Sum of Squares (WCSS)')\n",
    "plt.title('Elbow Method for Optimal K (Scikit-learn)')\n",
    "plt.show()\n"
   ]
  },
  {
   "cell_type": "code",
   "execution_count": null,
   "id": "20c3640b",
   "metadata": {},
   "outputs": [],
   "source": []
  }
 ],
 "metadata": {
  "kernelspec": {
   "display_name": "Python 3 (ipykernel)",
   "language": "python",
   "name": "python3"
  },
  "language_info": {
   "codemirror_mode": {
    "name": "ipython",
    "version": 3
   },
   "file_extension": ".py",
   "mimetype": "text/x-python",
   "name": "python",
   "nbconvert_exporter": "python",
   "pygments_lexer": "ipython3",
   "version": "3.11.6"
  }
 },
 "nbformat": 4,
 "nbformat_minor": 5
}
