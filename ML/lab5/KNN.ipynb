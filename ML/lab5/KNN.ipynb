{
 "cells": [
  {
   "cell_type": "code",
   "execution_count": null,
   "id": "927c1037-6d6e-4eb9-a055-942ed0f7588c",
   "metadata": {},
   "outputs": [],
   "source": [
    "import numpy as np\n",
    "from collections import Counter\n",
    "import pandas as pd\n",
    "from sklearn.metrics import accuracy_score"
   ]
  },
  {
   "cell_type": "code",
   "execution_count": null,
   "id": "1bdfb9a0-edf6-4b2d-a3ba-513f989f4f0b",
   "metadata": {},
   "outputs": [],
   "source": [
    "col_names=['v_high','v_high.1','2','2.1','small','low','unacc']\n",
    "data = pd.read_csv(\"car_evaluation.csv\",skiprows=1,header=None,names=col_names)\n",
    "data.head(10)"
   ]
  },
  {
   "cell_type": "code",
   "execution_count": null,
   "id": "ed51b2a7-7425-4454-8400-da0d419152a4",
   "metadata": {},
   "outputs": [],
   "source": [
    "from sklearn.preprocessing import LabelEncoder\n",
    "le_v_high = LabelEncoder()\n",
    "le_v_high_1 = LabelEncoder()\n",
    "le_small = LabelEncoder()\n",
    "le_low = LabelEncoder()\n",
    "le_unacc = LabelEncoder()\n",
    "le_2 = LabelEncoder()\n",
    "le_21 = LabelEncoder()"
   ]
  },
  {
   "cell_type": "code",
   "execution_count": null,
   "id": "35c8c748-5d98-40db-ba9f-779ec8ef50a6",
   "metadata": {},
   "outputs": [],
   "source": [
    "inputs = data.drop('unacc',axis='columns')\n",
    "target = data['unacc']"
   ]
  },
  {
   "cell_type": "code",
   "execution_count": null,
   "id": "0a1159f9-14a8-4323-9cd8-8a2422fa2a38",
   "metadata": {},
   "outputs": [],
   "source": [
    "inputs['le_v_high'] = le_v_high.fit_transform(inputs['v_high'])\n",
    "inputs['le_v_high_1'] = le_v_high_1.fit_transform(inputs['v_high.1'])\n",
    "inputs['le_small'] = le_small.fit_transform(inputs['small'])\n",
    "inputs['le_low'] = le_low.fit_transform(inputs['low'])\n",
    "inputs['le_2'] = le_2.fit_transform(inputs['2'])\n",
    "inputs['le_21'] = le_21.fit_transform(inputs['2.1'])\n",
    "target = le_unacc.fit_transform(target)"
   ]
  },
  {
   "cell_type": "code",
   "execution_count": null,
   "id": "f07261e1-c59c-4b8f-af44-d548864b6427",
   "metadata": {
    "scrolled": true
   },
   "outputs": [],
   "source": [
    "inputs"
   ]
  },
  {
   "cell_type": "code",
   "execution_count": null,
   "id": "51b441ff-35e3-491e-b196-8bcc27d14a74",
   "metadata": {},
   "outputs": [],
   "source": [
    "inputs_n = inputs.drop(['v_high','v_high.1','small','low','2','2.1'],axis='columns')"
   ]
  },
  {
   "cell_type": "code",
   "execution_count": null,
   "id": "f8082ad9-b933-48c8-aefb-6fadbe33bbee",
   "metadata": {},
   "outputs": [],
   "source": [
    "inputs_n = inputs_n.to_numpy()\n",
    "# target = target.to_numpy()"
   ]
  },
  {
   "cell_type": "code",
   "execution_count": null,
   "id": "dfa45ff7-1914-4abc-ab4f-3bfb4d9a28ea",
   "metadata": {},
   "outputs": [],
   "source": [
    "inputs_n"
   ]
  },
  {
   "cell_type": "code",
   "execution_count": null,
   "id": "b1698501-7a2d-477c-955b-3fd4e82f5c94",
   "metadata": {},
   "outputs": [],
   "source": [
    "def euclidean_distance(x1, x2):\n",
    "    distance = np.sqrt(np.sum((x1-x2)**2))\n",
    "    return distance"
   ]
  },
  {
   "cell_type": "code",
   "execution_count": null,
   "id": "cfd9ab45-2065-4ca7-b47d-4bb50ce94d7d",
   "metadata": {},
   "outputs": [],
   "source": [
    "class KNN:\n",
    "    def __init__(self,k=3):\n",
    "        self.k = k\n",
    "    def fit(self,X,y):\n",
    "        self.X_train = X\n",
    "        self.y_train = y\n",
    "    def predict(self,X):\n",
    "        predictions = [self._predict(x) for x in X]\n",
    "        return predictions\n",
    "    def _predict(self,x):\n",
    "        #compute the distance\n",
    "        distances =[euclidean_distance(x,x_train) for x_train in self.X_train]\n",
    "\n",
    "        #get the closest k\n",
    "        k_indices = np.argsort(distances)[:self.k]\n",
    "        k_nearest_labels=[self.y_train[i] for i in k_indices]\n",
    "\n",
    "        #majority vote\n",
    "        most_common = Counter(k_nearest_labels).most_common()\n",
    "        return most_common[0][0]\n",
    "    "
   ]
  },
  {
   "cell_type": "code",
   "execution_count": null,
   "id": "85ba29dc-c620-4386-8801-a9a352d197da",
   "metadata": {},
   "outputs": [],
   "source": [
    "from sklearn.model_selection import train_test_split\n",
    "X_train, X_test, Y_train, Y_test = train_test_split(inputs_n, target, test_size=.1, random_state=0)"
   ]
  },
  {
   "cell_type": "code",
   "execution_count": null,
   "id": "ca1fe162-e110-4d04-a225-5c0cee4615b9",
   "metadata": {},
   "outputs": [],
   "source": [
    "X_train"
   ]
  },
  {
   "cell_type": "code",
   "execution_count": null,
   "id": "9ecf588f-14a2-452f-a805-0492e5c11203",
   "metadata": {
    "scrolled": true
   },
   "outputs": [],
   "source": [
    "classifier=KNN(k=10)\n",
    "classifier.fit(X_train,Y_train)\n",
    "Y_pred = classifier.predict(X_test)\n",
    "acc=accuracy_score(Y_test, Y_pred)*100"
   ]
  },
  {
   "cell_type": "code",
   "execution_count": null,
   "id": "129540dd-5c71-4d61-ada0-db5e87777ab1",
   "metadata": {},
   "outputs": [],
   "source": [
    "acc"
   ]
  },
  {
   "cell_type": "code",
   "execution_count": null,
   "id": "3e5545a1-8c0b-4f26-947d-e5613c065cfc",
   "metadata": {},
   "outputs": [],
   "source": [
    "from sklearn.model_selection import KFold\n",
    "k = 5\n",
    "kf = KFold(n_splits=k, shuffle=True, random_state=0)\n",
    "accuracy_scores = []\n",
    "classifiers=[]\n",
    "for train_index, val_index in kf.split(inputs_n):\n",
    "    X_train, X_val = inputs_n[train_index], inputs_n[val_index]\n",
    "    Y_train, Y_val = target[train_index], target[val_index]\n",
    "    classifier = KNN(k=5)\n",
    "    classifier.fit(X_train, Y_train)\n",
    "    Y_pred = classifier.predict(X_val)\n",
    "    acc = accuracy_score(Y_val, Y_pred) * 100\n",
    "    accuracy_scores.append(acc)\n",
    "    classifiers.append(classifier)\n",
    "\n",
    "classifier=classifiers[np.argmax(accuracy_scores)]"
   ]
  },
  {
   "cell_type": "code",
   "execution_count": null,
   "id": "bb9c343b-c413-4d8c-9430-d5fa50ee200f",
   "metadata": {},
   "outputs": [],
   "source": [
    "accuracy_scores"
   ]
  },
  {
   "cell_type": "code",
   "execution_count": null,
   "id": "295639e8-d873-4ea5-bb82-add5cdef5482",
   "metadata": {},
   "outputs": [],
   "source": [
    "y__pred=classifier.predict(X_test)\n",
    "acc=accuracy_score(Y_test, y__pred)*100"
   ]
  },
  {
   "cell_type": "code",
   "execution_count": null,
   "id": "788fdb21-2870-4037-a7c2-b865aff3243c",
   "metadata": {},
   "outputs": [],
   "source": [
    "acc"
   ]
  },
  {
   "cell_type": "code",
   "execution_count": null,
   "id": "1ac31341-36e5-4e35-8afd-c17a431e66e9",
   "metadata": {},
   "outputs": [],
   "source": []
  }
 ],
 "metadata": {
  "kernelspec": {
   "display_name": "Python 3 (ipykernel)",
   "language": "python",
   "name": "python3"
  },
  "language_info": {
   "codemirror_mode": {
    "name": "ipython",
    "version": 3
   },
   "file_extension": ".py",
   "mimetype": "text/x-python",
   "name": "python",
   "nbconvert_exporter": "python",
   "pygments_lexer": "ipython3",
   "version": "3.11.5"
  }
 },
 "nbformat": 4,
 "nbformat_minor": 5
}
