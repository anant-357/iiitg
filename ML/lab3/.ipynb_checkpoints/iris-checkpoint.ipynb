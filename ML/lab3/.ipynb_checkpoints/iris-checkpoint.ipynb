{
 "cells": [
  {
   "cell_type": "code",
   "execution_count": 14,
   "metadata": {},
   "outputs": [],
   "source": [
    "%matplotlib inline\n",
    "import numpy as np\n",
    "from sklearn import datasets, model_selection, linear_model\n",
    "from sklearn.preprocessing import StandardScaler"
   ]
  },
  {
   "cell_type": "code",
   "execution_count": 15,
   "metadata": {},
   "outputs": [],
   "source": [
    "x, y = datasets.load_iris(return_X_y=True)\n",
    "X_train, X_test, y_train, y_test = model_selection.train_test_split(x, y, test_size=0.1)\n",
    "sc = StandardScaler()\n",
    "X_train = sc.fit_transform(X_train)\n",
    "X_test = sc.transform(X_test)"
   ]
  },
  {
   "cell_type": "code",
   "execution_count": 16,
   "metadata": {},
   "outputs": [
    {
     "data": {
      "text/plain": [
       "array([[-1.12978087,  1.23118598, -1.32035598, -1.41758292],\n",
       "       [ 0.64371235,  0.3090772 ,  0.8657051 ,  1.44651319],\n",
       "       [ 0.64371235,  0.3090772 ,  0.41728231,  0.40502369],\n",
       "       [-0.18391782, -1.30461316,  0.69754655,  1.05595463],\n",
       "       [-1.36624663,  0.3090772 , -1.20825028, -1.28739674],\n",
       "       [ 0.64371235, -0.38250438,  0.30517662,  0.14465132],\n",
       "       [ 0.998411  , -0.15197719,  0.69754655,  0.66539607],\n",
       "       [ 1.23487676,  0.3090772 ,  1.08991649,  1.44651319],\n",
       "       [ 0.28901371, -0.15197719,  0.47333516,  0.27483751],\n",
       "       [ 2.18073981, -0.15197719,  1.31412788,  1.44651319],\n",
       "       [ 1.23487676,  0.07855001,  0.92175795,  1.18614081],\n",
       "       [-0.8933151 ,  1.46171317, -1.26430313, -1.02702436],\n",
       "       [-0.06568493,  2.15329475, -1.43246167, -1.28739674],\n",
       "       [ 0.998411  , -1.30461316,  1.14596934,  0.79558225],\n",
       "       [ 2.18073981,  1.69224036,  1.65044497,  1.316327  ],\n",
       "       [ 0.998411  ,  0.53960439,  1.08991649,  1.70688556],\n",
       "       [ 1.47134252, -0.15197719,  1.20202219,  1.18614081],\n",
       "       [ 0.998411  ,  0.53960439,  1.08991649,  1.18614081],\n",
       "       [ 0.64371235, -0.61303158,  1.03386364,  1.18614081],\n",
       "       [-0.42038358, -1.30461316,  0.13701807,  0.14465132],\n",
       "       [-0.53861646,  0.77013159, -1.26430313, -1.02702436],\n",
       "       [-0.18391782,  1.69224036, -1.15219743, -1.15721055],\n",
       "       [ 0.998411  , -0.15197719,  0.80965225,  1.44651319],\n",
       "       [-1.24801375,  0.77013159, -1.04009174, -1.28739674],\n",
       "       [-0.77508222,  2.38382195, -1.26430313, -1.41758292],\n",
       "       [-0.18391782, -0.61303158,  0.19307092,  0.14465132],\n",
       "       [ 0.05254795, -0.15197719,  0.7535994 ,  0.79558225],\n",
       "       [-0.8933151 ,  1.00065878, -1.32035598, -1.28739674],\n",
       "       [-1.48447951,  1.23118598, -1.54456737, -1.28739674],\n",
       "       [-0.06568493, -0.84355877,  0.7535994 ,  0.92576844],\n",
       "       [ 0.52547947, -1.30461316,  0.64149371,  0.40502369],\n",
       "       [-0.8933151 ,  1.69224036, -1.20825028, -1.28739674],\n",
       "       [-1.24801375, -0.15197719, -1.32035598, -1.41758292],\n",
       "       [-0.18391782, -0.38250438,  0.24912377,  0.14465132],\n",
       "       [ 0.64371235,  0.07855001,  0.97781079,  0.79558225],\n",
       "       [ 0.17078083, -0.38250438,  0.41728231,  0.40502369],\n",
       "       [-0.3021507 , -0.15197719,  0.19307092,  0.14465132],\n",
       "       [ 0.52547947,  0.77013159,  1.03386364,  1.57669937],\n",
       "       [ 0.40724659, -0.38250438,  0.30517662,  0.14465132],\n",
       "       [-0.53861646, -0.15197719,  0.41728231,  0.40502369],\n",
       "       [-1.48447951,  0.77013159, -1.32035598, -1.15721055],\n",
       "       [ 2.06250693, -0.15197719,  1.59439212,  1.18614081],\n",
       "       [-1.48447951,  0.07855001, -1.26430313, -1.28739674],\n",
       "       [-0.65684934,  1.46171317, -1.26430313, -1.28739674],\n",
       "       [-1.24801375,  0.77013159, -1.20825028, -1.28739674],\n",
       "       [ 0.05254795,  0.3090772 ,  0.58544086,  0.79558225],\n",
       "       [ 0.40724659, -1.99619474,  0.41728231,  0.40502369],\n",
       "       [-1.01154798,  1.00065878, -1.37640882, -1.15721055],\n",
       "       [ 0.76194524, -0.15197719,  1.14596934,  1.316327  ],\n",
       "       [-0.3021507 , -0.84355877,  0.24912377,  0.14465132],\n",
       "       [-0.18391782, -0.15197719,  0.24912377,  0.01446513],\n",
       "       [-0.8933151 ,  1.00065878, -1.32035598, -1.15721055],\n",
       "       [ 1.5895754 , -0.15197719,  1.14596934,  0.53520988],\n",
       "       [ 1.11664388, -0.15197719,  0.97781079,  1.18614081],\n",
       "       [-1.01154798,  0.3090772 , -1.43246167, -1.28739674],\n",
       "       [-0.42038358, -1.53514035, -0.03114047, -0.24590724],\n",
       "       [ 1.82604117, -0.61303158,  1.31412788,  0.92576844],\n",
       "       [-1.01154798, -0.15197719, -1.20825028, -1.28739674],\n",
       "       [ 1.11664388, -0.61303158,  0.58544086,  0.27483751],\n",
       "       [ 2.41720557,  1.69224036,  1.48228643,  1.05595463],\n",
       "       [-0.42038358, -1.53514035,  0.02491238, -0.11572106],\n",
       "       [-1.24801375, -0.15197719, -1.32035598, -1.15721055],\n",
       "       [-1.72094527, -0.38250438, -1.32035598, -1.28739674],\n",
       "       [-0.18391782, -1.07408596, -0.14324617, -0.24590724],\n",
       "       [-1.83917815, -0.15197719, -1.48851452, -1.41758292],\n",
       "       [ 0.998411  ,  0.07855001,  0.36122946,  0.27483751],\n",
       "       [ 0.28901371, -0.61303158,  0.13701807,  0.14465132],\n",
       "       [ 1.23487676,  0.07855001,  0.7535994 ,  1.44651319],\n",
       "       [ 0.76194524,  0.3090772 ,  0.7535994 ,  1.05595463],\n",
       "       [-0.18391782,  3.07540353, -1.26430313, -1.02702436],\n",
       "       [-0.3021507 , -0.61303158,  0.64149371,  1.05595463],\n",
       "       [ 0.88017812, -0.38250438,  0.47333516,  0.14465132],\n",
       "       [-1.01154798,  0.77013159, -1.20825028, -1.02702436],\n",
       "       [ 1.23487676,  0.07855001,  0.64149371,  0.40502369],\n",
       "       [ 0.28901371, -1.07408596,  1.03386364,  0.27483751],\n",
       "       [-1.60271239, -1.76566754, -1.37640882, -1.15721055],\n",
       "       [-1.01154798, -2.45724913, -0.14324617, -0.24590724],\n",
       "       [ 1.35310964,  0.3090772 ,  0.52938801,  0.27483751],\n",
       "       [-0.06568493, -0.84355877,  0.08096522,  0.01446513],\n",
       "       [-1.48447951,  0.3090772 , -1.32035598, -1.28739674],\n",
       "       [-0.77508222,  1.00065878, -1.26430313, -1.28739674],\n",
       "       [-0.53861646,  1.92276756, -1.15219743, -1.02702436],\n",
       "       [-1.12978087, -1.30461316,  0.41728231,  0.66539607],\n",
       "       [-0.8933151 ,  0.77013159, -1.26430313, -1.28739674],\n",
       "       [ 1.5895754 ,  1.23118598,  1.31412788,  1.70688556],\n",
       "       [-1.72094527, -0.15197719, -1.37640882, -1.28739674],\n",
       "       [ 0.17078083, -1.99619474,  0.13701807, -0.24590724],\n",
       "       [ 0.17078083, -0.84355877,  0.7535994 ,  0.53520988],\n",
       "       [ 0.52547947, -1.30461316,  0.69754655,  0.92576844],\n",
       "       [-1.01154798,  1.23118598, -1.32035598, -1.28739674],\n",
       "       [ 0.76194524, -0.15197719,  0.80965225,  1.05595463],\n",
       "       [-0.3021507 , -0.38250438, -0.08719332,  0.14465132],\n",
       "       [ 0.28901371, -0.38250438,  0.52938801,  0.27483751],\n",
       "       [-0.06568493, -0.84355877,  0.7535994 ,  0.92576844],\n",
       "       [ 0.28901371, -0.15197719,  0.64149371,  0.79558225],\n",
       "       [-0.42038358,  1.00065878, -1.37640882, -1.28739674],\n",
       "       [-0.77508222,  0.77013159, -1.32035598, -1.28739674],\n",
       "       [ 0.52547947, -1.76566754,  0.36122946,  0.14465132],\n",
       "       [ 0.998411  ,  0.07855001,  0.52938801,  0.40502369],\n",
       "       [ 0.52547947, -0.61303158,  0.7535994 ,  0.40502369],\n",
       "       [-0.8933151 ,  1.69224036, -1.26430313, -1.15721055],\n",
       "       [ 2.18073981, -1.07408596,  1.76255067,  1.44651319],\n",
       "       [ 0.76194524, -0.15197719,  0.97781079,  0.79558225],\n",
       "       [-0.06568493, -0.84355877,  0.19307092, -0.24590724],\n",
       "       [-0.53861646,  0.77013159, -1.15219743, -1.28739674],\n",
       "       [ 0.17078083, -0.15197719,  0.58544086,  0.79558225],\n",
       "       [-1.01154798, -1.76566754, -0.25535186, -0.24590724],\n",
       "       [ 0.64371235, -0.61303158,  1.03386364,  1.316327  ],\n",
       "       [ 2.18073981, -0.61303158,  1.65044497,  1.05595463],\n",
       "       [ 0.40724659, -0.61303158,  0.58544086,  0.79558225],\n",
       "       [ 0.28901371, -0.61303158,  0.52938801,  0.01446513],\n",
       "       [-1.01154798,  0.53960439, -1.32035598, -1.28739674],\n",
       "       [-0.8933151 ,  1.69224036, -1.04009174, -1.02702436],\n",
       "       [ 0.17078083,  0.77013159,  0.41728231,  0.53520988],\n",
       "       [ 0.76194524, -0.61303158,  0.47333516,  0.40502369],\n",
       "       [-0.53861646,  1.92276756, -1.37640882, -1.02702436],\n",
       "       [-0.53861646,  1.46171317, -1.26430313, -1.28739674],\n",
       "       [-0.42038358, -1.07408596,  0.36122946,  0.01446513],\n",
       "       [-1.12978087, -1.53514035, -0.25535186, -0.24590724],\n",
       "       [ 0.17078083, -1.99619474,  0.69754655,  0.40502369],\n",
       "       [ 1.70780829, -0.38250438,  1.42623358,  0.79558225],\n",
       "       [ 0.998411  ,  0.07855001,  1.03386364,  1.57669937],\n",
       "       [ 1.5895754 ,  0.3090772 ,  1.25807503,  0.79558225],\n",
       "       [ 0.40724659,  0.77013159,  0.92175795,  1.44651319],\n",
       "       [-1.12978087,  0.07855001, -1.26430313, -1.41758292],\n",
       "       [-1.72094527,  0.3090772 , -1.37640882, -1.28739674],\n",
       "       [-1.24801375,  0.07855001, -1.20825028, -1.28739674],\n",
       "       [-1.01154798,  0.77013159, -1.26430313, -1.28739674],\n",
       "       [ 0.52547947,  0.53960439,  1.25807503,  1.70688556],\n",
       "       [-1.36624663,  0.3090772 , -1.37640882, -1.28739674],\n",
       "       [ 0.52547947,  0.53960439,  0.52938801,  0.53520988],\n",
       "       [ 0.05254795, -0.15197719,  0.24912377,  0.40502369],\n",
       "       [-0.18391782, -0.61303158,  0.41728231,  0.14465132],\n",
       "       [-0.42038358, -1.76566754,  0.13701807,  0.14465132],\n",
       "       [-1.12978087, -0.15197719, -1.32035598, -1.28739674]])"
      ]
     },
     "execution_count": 16,
     "metadata": {},
     "output_type": "execute_result"
    }
   ],
   "source": [
    "X_train"
   ]
  },
  {
   "cell_type": "code",
   "execution_count": 19,
   "metadata": {},
   "outputs": [
    {
     "data": {
      "text/html": [
       "<style>#sk-container-id-1 {color: black;}#sk-container-id-1 pre{padding: 0;}#sk-container-id-1 div.sk-toggleable {background-color: white;}#sk-container-id-1 label.sk-toggleable__label {cursor: pointer;display: block;width: 100%;margin-bottom: 0;padding: 0.3em;box-sizing: border-box;text-align: center;}#sk-container-id-1 label.sk-toggleable__label-arrow:before {content: \"▸\";float: left;margin-right: 0.25em;color: #696969;}#sk-container-id-1 label.sk-toggleable__label-arrow:hover:before {color: black;}#sk-container-id-1 div.sk-estimator:hover label.sk-toggleable__label-arrow:before {color: black;}#sk-container-id-1 div.sk-toggleable__content {max-height: 0;max-width: 0;overflow: hidden;text-align: left;background-color: #f0f8ff;}#sk-container-id-1 div.sk-toggleable__content pre {margin: 0.2em;color: black;border-radius: 0.25em;background-color: #f0f8ff;}#sk-container-id-1 input.sk-toggleable__control:checked~div.sk-toggleable__content {max-height: 200px;max-width: 100%;overflow: auto;}#sk-container-id-1 input.sk-toggleable__control:checked~label.sk-toggleable__label-arrow:before {content: \"▾\";}#sk-container-id-1 div.sk-estimator input.sk-toggleable__control:checked~label.sk-toggleable__label {background-color: #d4ebff;}#sk-container-id-1 div.sk-label input.sk-toggleable__control:checked~label.sk-toggleable__label {background-color: #d4ebff;}#sk-container-id-1 input.sk-hidden--visually {border: 0;clip: rect(1px 1px 1px 1px);clip: rect(1px, 1px, 1px, 1px);height: 1px;margin: -1px;overflow: hidden;padding: 0;position: absolute;width: 1px;}#sk-container-id-1 div.sk-estimator {font-family: monospace;background-color: #f0f8ff;border: 1px dotted black;border-radius: 0.25em;box-sizing: border-box;margin-bottom: 0.5em;}#sk-container-id-1 div.sk-estimator:hover {background-color: #d4ebff;}#sk-container-id-1 div.sk-parallel-item::after {content: \"\";width: 100%;border-bottom: 1px solid gray;flex-grow: 1;}#sk-container-id-1 div.sk-label:hover label.sk-toggleable__label {background-color: #d4ebff;}#sk-container-id-1 div.sk-serial::before {content: \"\";position: absolute;border-left: 1px solid gray;box-sizing: border-box;top: 0;bottom: 0;left: 50%;z-index: 0;}#sk-container-id-1 div.sk-serial {display: flex;flex-direction: column;align-items: center;background-color: white;padding-right: 0.2em;padding-left: 0.2em;position: relative;}#sk-container-id-1 div.sk-item {position: relative;z-index: 1;}#sk-container-id-1 div.sk-parallel {display: flex;align-items: stretch;justify-content: center;background-color: white;position: relative;}#sk-container-id-1 div.sk-item::before, #sk-container-id-1 div.sk-parallel-item::before {content: \"\";position: absolute;border-left: 1px solid gray;box-sizing: border-box;top: 0;bottom: 0;left: 50%;z-index: -1;}#sk-container-id-1 div.sk-parallel-item {display: flex;flex-direction: column;z-index: 1;position: relative;background-color: white;}#sk-container-id-1 div.sk-parallel-item:first-child::after {align-self: flex-end;width: 50%;}#sk-container-id-1 div.sk-parallel-item:last-child::after {align-self: flex-start;width: 50%;}#sk-container-id-1 div.sk-parallel-item:only-child::after {width: 0;}#sk-container-id-1 div.sk-dashed-wrapped {border: 1px dashed gray;margin: 0 0.4em 0.5em 0.4em;box-sizing: border-box;padding-bottom: 0.4em;background-color: white;}#sk-container-id-1 div.sk-label label {font-family: monospace;font-weight: bold;display: inline-block;line-height: 1.2em;}#sk-container-id-1 div.sk-label-container {text-align: center;}#sk-container-id-1 div.sk-container {/* jupyter's `normalize.less` sets `[hidden] { display: none; }` but bootstrap.min.css set `[hidden] { display: none !important; }` so we also need the `!important` here to be able to override the default hidden behavior on the sphinx rendered scikit-learn.org. See: https://github.com/scikit-learn/scikit-learn/issues/21755 */display: inline-block !important;position: relative;}#sk-container-id-1 div.sk-text-repr-fallback {display: none;}</style><div id=\"sk-container-id-1\" class=\"sk-top-container\"><div class=\"sk-text-repr-fallback\"><pre>LogisticRegression()</pre><b>In a Jupyter environment, please rerun this cell to show the HTML representation or trust the notebook. <br />On GitHub, the HTML representation is unable to render, please try loading this page with nbviewer.org.</b></div><div class=\"sk-container\" hidden><div class=\"sk-item\"><div class=\"sk-estimator sk-toggleable\"><input class=\"sk-toggleable__control sk-hidden--visually\" id=\"sk-estimator-id-1\" type=\"checkbox\" checked><label for=\"sk-estimator-id-1\" class=\"sk-toggleable__label sk-toggleable__label-arrow\">LogisticRegression</label><div class=\"sk-toggleable__content\"><pre>LogisticRegression()</pre></div></div></div></div></div>"
      ],
      "text/plain": [
       "LogisticRegression()"
      ]
     },
     "execution_count": 19,
     "metadata": {},
     "output_type": "execute_result"
    }
   ],
   "source": [
    "model = linear_model.LogisticRegression().fit(X_train, y_train)"
   ]
  },
  {
   "cell_type": "code",
   "execution_count": 20,
   "metadata": {},
   "outputs": [],
   "source": [
    "y_pred = model.predict(X_test)"
   ]
  }
 ],
 "metadata": {
  "kernelspec": {
   "display_name": "python-pip",
   "language": "python",
   "name": "python3"
  },
  "language_info": {
   "codemirror_mode": {
    "name": "ipython",
    "version": 3
   },
   "file_extension": ".py",
   "mimetype": "text/x-python",
   "name": "python",
   "nbconvert_exporter": "python",
   "pygments_lexer": "ipython3",
   "version": "3.11.3"
  },
  "orig_nbformat": 4
 },
 "nbformat": 4,
 "nbformat_minor": 2
}
