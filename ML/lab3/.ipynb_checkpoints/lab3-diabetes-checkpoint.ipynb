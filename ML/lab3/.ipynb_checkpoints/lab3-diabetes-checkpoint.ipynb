{
 "cells": [
  {
   "cell_type": "markdown",
   "metadata": {},
   "source": [
    "Logistic Regression"
   ]
  },
  {
   "cell_type": "code",
   "execution_count": null,
   "metadata": {},
   "outputs": [],
   "source": [
    "%matplotlib inline\n",
    "import numpy as np\n",
    "import matplotlib.pyplot as plt\n",
    "from sklearn import datasets,model_selection\n",
    "import pandas as pd"
   ]
  },
  {
   "cell_type": "code",
   "execution_count": null,
   "metadata": {},
   "outputs": [],
   "source": [
    "diabetes = pd.read_csv('diabetes.csv')\n",
    "display(diabetes)\n",
    "diabetes['gender'].replace({'Female':0, 'Male':1, 'Other':2}, inplace=True)\n",
    "diabetes['smoking_history'].replace({'No Info':0, 'current':1, 'ever':2, 'former':3, 'never':4, 'not current':5}, inplace=True)\n",
    "display(diabetes)"
   ]
  },
  {
   "cell_type": "code",
   "execution_count": null,
   "metadata": {},
   "outputs": [],
   "source": [
    "x = diabetes[\n",
    "    [\n",
    "        \"gender\",\n",
    "        \"age\",\n",
    "        \"hypertension\",\n",
    "        \"heart_disease\",\n",
    "        \"smoking_history\",\n",
    "        \"bmi\",\n",
    "        \"HbA1c_level\",\n",
    "        \"blood_glucose_level\",\n",
    "    ]\n",
    "].to_numpy()\n",
    "y = diabetes[[\"diabetes\"]].to_numpy()"
   ]
  },
  {
   "cell_type": "code",
   "execution_count": null,
   "metadata": {},
   "outputs": [],
   "source": [
    "# X_train, X_test, y_train, y_test = model_selection.train_test_split(\n",
    "#     x, y, test_size=0.2\n",
    "# )\n",
    "\n",
    "length = x.shape[0]\n",
    "X_train = x[0 : int(length * 0.8)]\n",
    "X_test = x[int(length * 0.8):]\n",
    "\n",
    "y_train = y[0 : int(length * 0.8)]\n",
    "y_test = y[int(length * 0.8):]\n",
    "\n",
    "w = np.zeros((X_train.shape[1] + 1, 1))\n",
    "b = 0"
   ]
  },
  {
   "cell_type": "code",
   "execution_count": null,
   "metadata": {},
   "outputs": [],
   "source": [
    "def sigmoid(z):\n",
    "    return 1 / (1 + np.exp(-z))"
   ]
  },
  {
   "cell_type": "code",
   "execution_count": null,
   "metadata": {},
   "outputs": [],
   "source": [
    "def gradientDescent(X, y, W, b):\n",
    "    cost = -(\n",
    "        np.sum(\n",
    "            y.T * np.log(sigmoid(X.dot(W) + b))\n",
    "            + (1 - y.T) * np.log(1 - sigmoid(X.dot(W) + b))\n",
    "        )\n",
    "        / X.shape[0]\n",
    "    )\n",
    "    parameter_change = (\n",
    "        np.dot(X.T, np.reshape(sigmoid(X.dot(W) + b) - y.T, X.shape[0])) / X.shape[0]\n",
    "    )\n",
    "    b_change = np.sum(np.reshape(sigmoid(X.dot(W) + b) - y.T, X.shape[0])) / X.shape[0]\n",
    "    return (parameter_change, b_change, cost)"
   ]
  },
  {
   "cell_type": "code",
   "execution_count": null,
   "metadata": {},
   "outputs": [],
   "source": [
    "def predict(final_pred, m):\n",
    "    y_pred = np.zeros(m)\n",
    "    for i in range(final_pred.shape[0]):\n",
    "        if final_pred[i] > 0.5:\n",
    "            y_pred[i] = 1\n",
    "    return y_pred"
   ]
  },
  {
   "cell_type": "code",
   "execution_count": null,
   "metadata": {},
   "outputs": [],
   "source": [
    "def train(x, y, parameters, b, learningRate, iterations):\n",
    "    for _ in range(iterations):\n",
    "        parameter_change, b_change, cost = gradientDescent(x, y, parameters, b)\n",
    "\n",
    "        # if _ % 100 == 0:\n",
    "        #     print(_, \" \", cost)\n",
    "        parameters -= parameter_change * learningRate\n",
    "        b -= b_change * learningRate\n",
    "        # print(parameters, b)\n",
    "\n",
    "    return parameters, b"
   ]
  },
  {
   "cell_type": "code",
   "execution_count": null,
   "metadata": {},
   "outputs": [],
   "source": [
    "def accuracy(y_test, y_pred):\n",
    "    y_test = y_test.reshape(y_pred.shape)\n",
    "    return np.sum(y_pred == y_test) * 100 / len(y_test)"
   ]
  },
  {
   "cell_type": "code",
   "execution_count": null,
   "metadata": {},
   "outputs": [],
   "source": [
    "slope = np.zeros(X_train.shape[1])\n",
    "intercept = np.zeros(1)\n",
    "learningRate = 0.01\n",
    "iterations = 100\n",
    "slope, intercept = train(X_train, y_train, slope, intercept, learningRate, iterations)\n",
    "y_pred = predict(sigmoid(X_test.dot(slope) + intercept), X_test.shape[0])\n",
    "\n",
    "# plt.scatter(y_test, y_pred, color=\"blue\", label=\"Predicted vs. Actual\")\n",
    "# plt.plot(\n",
    "#     [min(y_test), max(y_test)], [min(y_test), max(y_test)], color=\"red\", linewidth=\"2\"\n",
    "# )\n",
    "# plt.show()\n",
    "print(accuracy(y_test, y_pred))\n"
   ]
  },
  {
   "cell_type": "code",
   "execution_count": null,
   "metadata": {},
   "outputs": [],
   "source": []
  }
 ],
 "metadata": {
  "kernelspec": {
   "display_name": "Python 3 (ipykernel)",
   "language": "python",
   "name": "python3"
  },
  "language_info": {
   "codemirror_mode": {
    "name": "ipython",
    "version": 3
   },
   "file_extension": ".py",
   "mimetype": "text/x-python",
   "name": "python",
   "nbconvert_exporter": "python",
   "pygments_lexer": "ipython3",
   "version": "3.11.5"
  }
 },
 "nbformat": 4,
 "nbformat_minor": 4
}
