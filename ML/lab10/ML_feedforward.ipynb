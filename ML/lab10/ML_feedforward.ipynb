{
 "cells": [
  {
   "cell_type": "code",
   "execution_count": null,
   "id": "6ffde5ca-b47a-410d-9614-109a28f16321",
   "metadata": {},
   "outputs": [],
   "source": [
    "import numpy as np\n",
    "\n",
    "# Generate random data\n",
    "np.random.seed(0)\n",
    "num_samples = 1000\n",
    "num_features = 5\n",
    "X = np.random.rand(num_samples, num_features)\n",
    "y = np.random.randint(0, 2, num_samples)\n",
    "\n",
    "# Define the neural network architecture\n",
    "input_size = num_features\n",
    "hidden_size = 10\n",
    "output_size = 2\n",
    "learning_rate = 0.01\n",
    "epochs = 1000\n",
    "\n",
    "# Initialize weights and biases\n",
    "np.random.seed(0)\n",
    "w1 = np.random.randn(input_size, hidden_size)\n",
    "b1 = np.zeros((1, hidden_size))\n",
    "w2 = np.random.randn(hidden_size, output_size)\n",
    "b2 = np.zeros((1, output_size))\n",
    "\n",
    "# Sigmoid activation function\n",
    "def sigmoid(x):\n",
    "    return 1 / (1 + np.exp(-x))\n",
    "\n",
    "# Cross-entropy loss function\n",
    "def cross_entropy_loss(y_true, y_pred):\n",
    "    epsilon = 1e-15\n",
    "    y_pred = np.clip(y_pred, epsilon, 1 - epsilon)\n",
    "    return - (y_true * np.log(y_pred) + (1 - y_true) * np.log(1 - y_pred)).mean()\n",
    "\n",
    "# Training loop\n",
    "\n",
    "# Forward pass\n",
    "z1 = np.dot(X, w1) + b1\n",
    "a1 = sigmoid(z1)\n",
    "z2 = np.dot(a1, w2) + b2\n",
    "a2 = sigmoid(z2)\n",
    "\n",
    "# Calculate loss\n",
    "y_true = y.reshape((-1, 1))  \n",
    "loss = cross_entropy_loss(y_true, a2)\n",
    "print(f'Loss {loss}')"
   ]
  }
 ],
 "metadata": {
  "kernelspec": {
   "display_name": "Python 3 (ipykernel)",
   "language": "python",
   "name": "python3"
  },
  "language_info": {
   "codemirror_mode": {
    "name": "ipython",
    "version": 3
   },
   "file_extension": ".py",
   "mimetype": "text/x-python",
   "name": "python",
   "nbconvert_exporter": "python",
   "pygments_lexer": "ipython3",
   "version": "3.11.6"
  }
 },
 "nbformat": 4,
 "nbformat_minor": 5
}
