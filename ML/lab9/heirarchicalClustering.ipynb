{
 "cells": [
  {
   "cell_type": "code",
   "execution_count": null,
   "id": "c914b53b-79d1-43ca-9e27-b84ca6278983",
   "metadata": {},
   "outputs": [],
   "source": [
    "import pandas as pd\n",
    "import numpy as np\n",
    "\n",
    "df = pd.read_csv('cc.csv')\n",
    "df.head()"
   ]
  },
  {
   "cell_type": "code",
   "execution_count": null,
   "id": "d5aab038-6fb5-4e89-ba0f-e7b66d8e7fde",
   "metadata": {},
   "outputs": [],
   "source": [
    "X = df.iloc[:,2:]"
   ]
  },
  {
   "cell_type": "code",
   "execution_count": null,
   "id": "efec968f-cba3-450c-9fd0-e686369e1b77",
   "metadata": {},
   "outputs": [],
   "source": [
    "X.head()"
   ]
  },
  {
   "cell_type": "code",
   "execution_count": null,
   "id": "1322cf16-c4c5-48d7-8bb3-1180df9e8cb7",
   "metadata": {},
   "outputs": [],
   "source": [
    "from sklearn.preprocessing import MinMaxScaler\n",
    "scaler = MinMaxScaler()\n",
    "\n",
    "scaled_data = scaler.fit_transform(df[['Avg_Credit_Limit', 'Total_Credit_Cards', 'Total_visits_bank', 'Total_visits_online', 'Total_calls_made']])\n",
    "\n",
    "scaled_df = pd.DataFrame(scaled_data, columns=['Avg_Credit_Limit', 'Total_Credit_Cards', 'Total_visits_bank', 'Total_visits_online', 'Total_calls_made'])"
   ]
  },
  {
   "cell_type": "code",
   "execution_count": null,
   "id": "ad4fba41-7c04-46be-82ba-df4a76742bf4",
   "metadata": {},
   "outputs": [],
   "source": [
    "from sklearn.cluster import AgglomerativeClustering \n",
    "# default linkage is ward\n",
    "clustering_average = AgglomerativeClustering(n_clusters=3,metric=\"euclidean\",linkage='average')\n",
    "y_pred = clustering_average.fit_predict(scaled_df)\n",
    "# clustering_complete = AgglomerativeClustering(n_clusters=3,affinity=\"euclidean\",linkage='complete')\n",
    "# y_pred = clustering.fit_predict(X)\n",
    "# clustering_single = AgglomerativeClustering(n_clusters=3,affinity=\"euclidean\",linkage='single')\n",
    "# y_pred = clustering.fit_predict(X)"
   ]
  },
  {
   "cell_type": "code",
   "execution_count": null,
   "id": "88292d80-11a9-4f73-8700-c1e7e2cd2f52",
   "metadata": {},
   "outputs": [],
   "source": [
    "clustering_average.labels_"
   ]
  },
  {
   "cell_type": "code",
   "execution_count": null,
   "id": "b99738a8-2afe-4432-9dd3-ef207050bd4a",
   "metadata": {},
   "outputs": [],
   "source": [
    "from scipy.cluster.hierarchy import dendrogram, linkage\n",
    "import matplotlib.pyplot as plt\n",
    "\n",
    "plt.figure(figsize=(30, 6))\n",
    "plt.title('Dendrogram')\n",
    "plt.ylabel('Euclidean distance')\n",
    "plt.xlabel('data points')\n",
    "link_matrix = linkage(scaled_df, method='average')\n",
    "dendrogram(link_matrix)\n",
    "\n",
    "plt.show()"
   ]
  },
  {
   "cell_type": "markdown",
   "id": "ed3df2a9-0830-481a-9071-94b879d12b35",
   "metadata": {},
   "source": [
    "## WITHOUT USING SCIKIT"
   ]
  },
  {
   "cell_type": "code",
   "execution_count": null,
   "id": "ba1627fb-aa24-48f3-85d0-095c2bed0671",
   "metadata": {},
   "outputs": [],
   "source": [
    "class Agglomerative_scratch:\n",
    "    @staticmethod\n",
    "    def custom_distance(point1, point2):\n",
    "        return np.sqrt(np.sum((point1 - point2) ** 2))\n",
    "\n",
    "    # distance between nearest points within the cluster\n",
    "    def single_linkage(self,cluster1, cluster2):\n",
    "        min_distance = float('inf')\n",
    "        for point1 in cluster1:\n",
    "            for point2 in cluster2:\n",
    "                distance = self.custom_distance(point1, point2)\n",
    "                if distance < min_distance:\n",
    "                    min_distance = distance\n",
    "        return min_distance\n",
    "\n",
    "    # distance between farthest points in the cluster\n",
    "    def complete_linkage(self,cluster1, cluster2):\n",
    "        max_distance = -1\n",
    "        for point1 in cluster1:\n",
    "            for point2 in cluster2:\n",
    "                distance = self.custom_distance(point1, point2)\n",
    "                if distance > max_distance:\n",
    "                    max_distance = distance\n",
    "        return max_distance\n",
    "\n",
    "    #average  of distance between every point of cluster1 to every other point in cluster2 \n",
    "    def average_linkage(self,cluster1, cluster2):\n",
    "        total_distance = 0\n",
    "        count = 0\n",
    "        for point1 in cluster1:\n",
    "            for point2 in cluster2:\n",
    "                total_distance += self.custom_distance(point1, point2)\n",
    "                count += 1\n",
    "        return total_distance / count\n",
    "        \n",
    "    # distance between centroids of 2 clusters\n",
    "    def centroid_linkage(self,cluster1, cluster2):\n",
    "        centroid1 = np.mean(cluster1, axis=0)\n",
    "        centroid2 = np.mean(cluster2, axis=0)\n",
    "        return self.custom_distance(centroid1, centroid2)\n",
    "\n",
    "    def agglomerative_hierarchical_clustering(self, data, linkage):\n",
    "        clusters = [[point] for point in data]\n",
    "\n",
    "        while len(clusters) > 5:\n",
    "            min_distance = float('inf')\n",
    "            merge_indices = None\n",
    "\n",
    "            for i in range(len(clusters)):\n",
    "                for j in range(i + 1, len(clusters)):\n",
    "                    distance = linkage(clusters[i], clusters[j])\n",
    "                    if distance < min_distance:\n",
    "                        min_distance = distance\n",
    "                        merge_indices = (i, j)\n",
    "\n",
    "            if merge_indices is not None:\n",
    "                i, j = merge_indices\n",
    "                clusters[i].extend(clusters[j])\n",
    "                del clusters[j]\n",
    "\n",
    "        # Create a dictionary to map data points (converted to tuples) to cluster labels\n",
    "        labels = {}\n",
    "        for i, cluster in enumerate(clusters):\n",
    "            for point in cluster:\n",
    "                labels[tuple(point)] = i\n",
    "\n",
    "        # Convert the dictionary to a list of labels\n",
    "        cluster_labels = [labels[tuple(point)] for point in data]\n",
    "\n",
    "        return cluster_labels\n",
    "    "
   ]
  },
  {
   "cell_type": "code",
   "execution_count": null,
   "id": "1b081637-b6ab-4f6a-9289-d2fd883a17ef",
   "metadata": {},
   "outputs": [],
   "source": [
    "agg = Agglomerative_scratch()"
   ]
  },
  {
   "cell_type": "code",
   "execution_count": null,
   "id": "e246ee7d-1943-40a4-a0c8-e7f445d91bc1",
   "metadata": {},
   "outputs": [],
   "source": [
    "data_array = scaled_df.values"
   ]
  },
  {
   "cell_type": "code",
   "execution_count": null,
   "id": "e12ed037-b69b-450e-8d66-e28f49c3e27a",
   "metadata": {},
   "outputs": [],
   "source": [
    "linkage_function = agg.single_linkage"
   ]
  },
  {
   "cell_type": "code",
   "execution_count": null,
   "id": "a3bebbe2-16a9-4b0f-8099-f444bc38baa4",
   "metadata": {},
   "outputs": [],
   "source": [
    "data_array = data_array[:50,:]"
   ]
  },
  {
   "cell_type": "code",
   "execution_count": null,
   "id": "136a42e7-b236-4982-b083-b3c637c57e8b",
   "metadata": {},
   "outputs": [],
   "source": [
    "custom_labels = agg.agglomerative_hierarchical_clustering(data_array, linkage_function)"
   ]
  },
  {
   "cell_type": "code",
   "execution_count": null,
   "id": "1809eb76-a462-4977-bc69-c5fc419ef160",
   "metadata": {},
   "outputs": [],
   "source": [
    "from sklearn.metrics import silhouette_score\n",
    "\n",
    "silhouette_score_sklearn = silhouette_score(scaled_df, clustering_average.labels_)\n",
    "silhouette_score_custom = silhouette_score(scaled_df.iloc[:50,:], custom_labels)\n",
    "\n",
    "print(f\"Silhouette Score (scikit-learn): {silhouette_score_sklearn}\")\n",
    "print(f\"Silhouette Score (custom): {silhouette_score_custom}\")"
   ]
  },
  {
   "cell_type": "code",
   "execution_count": null,
   "id": "209de34a-2390-44f7-b080-251ecc1cf595",
   "metadata": {},
   "outputs": [],
   "source": []
  }
 ],
 "metadata": {
  "kernelspec": {
   "display_name": "Python 3 (ipykernel)",
   "language": "python",
   "name": "python3"
  },
  "language_info": {
   "codemirror_mode": {
    "name": "ipython",
    "version": 3
   },
   "file_extension": ".py",
   "mimetype": "text/x-python",
   "name": "python",
   "nbconvert_exporter": "python",
   "pygments_lexer": "ipython3",
   "version": "3.11.6"
  }
 },
 "nbformat": 4,
 "nbformat_minor": 5
}
