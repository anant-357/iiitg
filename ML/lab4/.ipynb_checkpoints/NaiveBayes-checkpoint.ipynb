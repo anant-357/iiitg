{
 "cells": [
  {
   "cell_type": "code",
   "execution_count": null,
   "id": "6578aaea-5679-4b45-b410-568a5339f009",
   "metadata": {},
   "outputs": [],
   "source": [
    "import pandas as pd\n",
    "from collections import defaultdict\n",
    "from sklearn.model_selection import train_test_split\n",
    "from sklearn.metrics import accuracy_score\n",
    "\n",
    "data = pd.read_csv('car_evaluation.csv')"
   ]
  },
  {
   "cell_type": "code",
   "execution_count": null,
   "id": "9f1e652d-36fc-40f4-8328-c8969143a6c5",
   "metadata": {},
   "outputs": [],
   "source": [
    "X = data.drop(\"unacc\", axis=1)\n",
    "y = data[\"unacc\"]\n",
    "X_train, X_test, y_train, y_test = train_test_split(X, y, test_size=0.3, random_state=100)"
   ]
  },
  {
   "cell_type": "code",
   "execution_count": null,
   "id": "b35f5f79-625c-4bb9-a16b-cd4eacc07c8d",
   "metadata": {},
   "outputs": [],
   "source": [
    "class NaiveBayesClassifier:\n",
    "    def __init__(self):\n",
    "        self.class_probabilities = defaultdict(int)\n",
    "        self.feature_value_probs_given_class = defaultdict(lambda: defaultdict(lambda: defaultdict(int)))\n",
    "    \n",
    "    def fit(self, X, y):\n",
    "        total_samples = len(y)\n",
    "        unique_classes = y.unique()\n",
    "        \n",
    "        # class probabilities\n",
    "        for cls in unique_classes:\n",
    "            self.class_probabilities[cls] = (y[y == cls].count()) / total_samples\n",
    "        \n",
    "        # Calculate feature probabilities given class\n",
    "        for cls in unique_classes:\n",
    "            class_samples = X[y == cls]\n",
    "            total_samples_in_class = len(class_samples)\n",
    "            \n",
    "            for feature in X.columns:\n",
    "                for value in X[feature].unique():\n",
    "                    value_count = class_samples[feature][class_samples[feature] == value].count()\n",
    "                    self.feature_value_probs_given_class[cls][feature][value] = value_count / total_samples_in_class\n",
    "    \n",
    "    def predict(self, X):\n",
    "        predictions = []\n",
    "        for _, row in X.iterrows():\n",
    "            class_scores = {}\n",
    "            for cls, class_prob in self.class_probabilities.items():\n",
    "                likelihood = 1.0\n",
    "                for feature, value in row.items():\n",
    "                    likelihood *= self.feature_value_probs_given_class[cls][feature][value]\n",
    "                class_scores[cls] = class_prob * likelihood\n",
    "            predicted_class = max(class_scores, key=class_scores.get)\n",
    "            predictions.append(predicted_class)\n",
    "        return predictions"
   ]
  },
  {
   "cell_type": "code",
   "execution_count": null,
   "id": "90ba3136-3d2a-4400-b3c4-4cbd4b31baa2",
   "metadata": {},
   "outputs": [],
   "source": [
    "naive_bayes = NaiveBayesClassifier()\n",
    "naive_bayes.fit(X_train, y_train)"
   ]
  },
  {
   "cell_type": "code",
   "execution_count": null,
   "id": "f4c6d467-648f-457c-a0d1-5340e482b8a2",
   "metadata": {},
   "outputs": [],
   "source": [
    "y_pred = naive_bayes.predict(X_test)"
   ]
  },
  {
   "cell_type": "code",
   "execution_count": null,
   "id": "652ef3d1-4df7-4e48-8dbe-d77e4ca942ca",
   "metadata": {},
   "outputs": [],
   "source": [
    "accuracy = accuracy_score(y_test, y_pred)\n",
    "print(\"Accuracy:\", accuracy)"
   ]
  },
  {
   "cell_type": "code",
   "execution_count": null,
   "id": "6825c090-19b5-472c-ad33-2f4942fe4f3c",
   "metadata": {},
   "outputs": [],
   "source": [
    "naive_bayes.class_probabilities"
   ]
  },
  {
   "cell_type": "code",
   "execution_count": null,
   "id": "8525e581-d40c-47cc-8ed3-5422be52a52a",
   "metadata": {},
   "outputs": [],
   "source": [
    "naive_bayes.feature_value_probs_given_class"
   ]
  },
  {
   "cell_type": "code",
   "execution_count": null,
   "id": "046c2991-13c5-4c5c-a201-185582769e0d",
   "metadata": {},
   "outputs": [],
   "source": []
  }
 ],
 "metadata": {
  "kernelspec": {
   "display_name": "Python 3 (ipykernel)",
   "language": "python",
   "name": "python3"
  },
  "language_info": {
   "codemirror_mode": {
    "name": "ipython",
    "version": 3
   },
   "file_extension": ".py",
   "mimetype": "text/x-python",
   "name": "python",
   "nbconvert_exporter": "python",
   "pygments_lexer": "ipython3",
   "version": "3.11.5"
  }
 },
 "nbformat": 4,
 "nbformat_minor": 5
}
