{
 "cells": [
  {
   "cell_type": "code",
   "execution_count": null,
   "id": "ceb7250c-f533-4674-be27-b3af59148e07",
   "metadata": {},
   "outputs": [],
   "source": [
    "import numpy as np\n",
    "from sklearn.datasets import load_iris\n",
    "from sklearn.model_selection import train_test_split\n",
    "from sklearn.preprocessing import StandardScaler\n",
    "from sklearn.model_selection import KFold"
   ]
  },
  {
   "cell_type": "code",
   "execution_count": null,
   "id": "479f437f-bd87-45cf-b323-823810a2dc6b",
   "metadata": {},
   "outputs": [],
   "source": [
    "class LogisticRegression:\n",
    "    def __init__(self, learning_rate=0.01, num_iterations=5000):\n",
    "        self.learning_rate = learning_rate\n",
    "        self.num_iterations = num_iterations\n",
    "    \n",
    "    def sigmoid(self, z):\n",
    "        return 1 / (1 + np.exp(-z))\n",
    "    \n",
    "    def fit(self, X, y):\n",
    "        self.num_classes = len(np.unique(y))\n",
    "        #all classes vs shape matrix\n",
    "        self.theta = np.zeros((self.num_classes, X.shape[1]))\n",
    "        \n",
    "        for class_label in range(self.num_classes):\n",
    "        \n",
    "            y_binary = (y == class_label).astype(int)\n",
    "            \n",
    "            for _ in range(self.num_iterations):\n",
    "                # z = m*x\n",
    "                z = np.dot(X, self.theta[class_label])\n",
    "                # passing z through sigmoid\n",
    "                h = self.sigmoid(z)\n",
    "                # dJ/dm = x(y_pred - y )/n\n",
    "                gradient = np.dot(X.T, (h - y_binary)) / y_binary.size\n",
    "                # m = m - alpha * dJ/dm\n",
    "                self.theta[class_label] -= self.learning_rate * gradient\n",
    "    \n",
    "    def predict_proba(self, X):\n",
    "        return self.sigmoid(np.dot(X, self.theta.T))\n",
    "    \n",
    "    def predict(self, X):\n",
    "        probabilities = self.predict_proba(X)\n",
    "        #returns maximum elem on that axis\n",
    "        return np.argmax(probabilities, axis=1)"
   ]
  },
  {
   "cell_type": "code",
   "execution_count": null,
   "id": "9a05366e-bfa0-47d1-af9a-239d2d4333f2",
   "metadata": {},
   "outputs": [],
   "source": [
    "iris = load_iris()\n",
    "X = iris.data\n",
    "y = iris.target"
   ]
  },
  {
   "cell_type": "code",
   "execution_count": null,
   "id": "6aefe9d2-85e9-4c98-b6fe-0657b73c9533",
   "metadata": {},
   "outputs": [],
   "source": [
    "# Standardize features\n",
    "scaler = StandardScaler()\n",
    "X = scaler.fit_transform(X)"
   ]
  },
  {
   "cell_type": "code",
   "execution_count": null,
   "id": "9bbdfef7-26b8-4714-8db0-a18372be05d7",
   "metadata": {},
   "outputs": [],
   "source": [
    "X_train, X_test, y_train, y_test = train_test_split(X, y, test_size=0.2, random_state=0)"
   ]
  },
  {
   "cell_type": "code",
   "execution_count": null,
   "id": "6d7e788d-acea-4d20-b759-799718ee6df7",
   "metadata": {},
   "outputs": [],
   "source": [
    "num_folds = 5\n",
    "kf = KFold(n_splits=num_folds, shuffle=True, random_state=42)"
   ]
  },
  {
   "cell_type": "code",
   "execution_count": null,
   "id": "1705b662-6466-4355-9dcc-873ac3382f7e",
   "metadata": {},
   "outputs": [],
   "source": [
    "accuracies = []\n",
    "\n",
    "for train_idx, val_idx in kf.split(X):\n",
    "    X_train_fold, X_val_fold = X[train_idx], X[val_idx]\n",
    "    y_train_fold, y_val_fold = y[train_idx], y[val_idx]\n",
    "\n",
    "    # Further split the training data into 90% train and 10% validation\n",
    "    X_train, X_val, y_train, y_val = train_test_split(X_train_fold, y_train_fold, test_size=0.1, random_state=4)\n",
    "\n",
    "    # Initialize and fit the logistic regression model\n",
    "    model = LogisticRegression(learning_rate=0.1, num_iterations=1000)\n",
    "    model.fit(X_train, y_train)\n",
    "\n",
    "    # Make predictions on the validation set\n",
    "    y_val_pred = model.predict(X_val)\n",
    "\n",
    "    # Calculate accuracy for this fold\n",
    "    accuracy = np.mean(y_val_pred == y_val)\n",
    "    print(tra)\n",
    "    accuracies.append(accuracy)"
   ]
  },
  {
   "cell_type": "code",
   "execution_count": null,
   "id": "3f2cdaf1-5323-4bf7-94ba-ce77f3ac0383",
   "metadata": {},
   "outputs": [],
   "source": [
    "# mean accuracy across all folds\n",
    "mean_accuracy = np.mean(accuracies)\n",
    "print(\"Mean Accuracy using k-fold CV:\", mean_accuracy * 100)\n",
    "\n",
    "#model's accuracy on the test set using the previously defined train-test split\n",
    "y_test_pred = model.predict(X_test)\n",
    "test_accuracy = np.mean(y_test_pred == y_test)\n",
    "print(\"Accuracy on the test set:\", test_accuracy * 100)"
   ]
  }
 ],
 "metadata": {
  "kernelspec": {
   "display_name": "Python 3 (ipykernel)",
   "language": "python",
   "name": "python3"
  },
  "language_info": {
   "codemirror_mode": {
    "name": "ipython",
    "version": 3
   },
   "file_extension": ".py",
   "mimetype": "text/x-python",
   "name": "python",
   "nbconvert_exporter": "python",
   "pygments_lexer": "ipython3",
   "version": "3.11.5"
  }
 },
 "nbformat": 4,
 "nbformat_minor": 5
}
