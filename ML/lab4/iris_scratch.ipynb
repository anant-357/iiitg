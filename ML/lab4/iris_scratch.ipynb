{
 "cells": [
  {
   "cell_type": "code",
   "execution_count": 16,
   "id": "99042fc0-25d4-413b-8a03-fd71b0bc72f2",
   "metadata": {},
   "outputs": [],
   "source": [
    "import numpy as np\n",
    "from sklearn.datasets import load_iris\n",
    "from sklearn.model_selection import train_test_split\n",
    "from sklearn.metrics import accuracy_score\n",
    "import math  "
   ]
  },
  {
   "cell_type": "code",
   "execution_count": 17,
   "id": "e6212306-9d7b-4994-8b96-185c8ee9892d",
   "metadata": {},
   "outputs": [],
   "source": [
    "iris = load_iris()\r\n",
    "X = iris.data\r\n",
    "y = iris.target"
   ]
  },
  {
   "cell_type": "code",
   "execution_count": 18,
   "id": "b7dfabc9-bbbb-4f30-b8d4-4ba8014a9511",
   "metadata": {},
   "outputs": [],
   "source": [
    "X_train, X_test, y_train, y_test = train_test_split(X, y, test_size=0.2, random_state=100)"
   ]
  },
  {
   "cell_type": "code",
   "execution_count": 19,
   "id": "fe454539-060a-400c-96ff-ecf645be37bd",
   "metadata": {},
   "outputs": [],
   "source": [
    "def kfold(train_data, y_data, k):\n",
    "    n = train_data.shape[0]\n",
    "    co = math.ceil(n/k)\n",
    "    k_train = []\n",
    "    for i in range(k-1):\n",
    "        k_train.append((train_data[i*co:(i+1)*co], y_data[i*co:(i+1)*co]))\n",
    "    k_train.append((train_data[(k-1)*co:], y_data[(k-1)*co:]))\n",
    "    return k_train"
   ]
  },
  {
   "cell_type": "code",
   "execution_count": 20,
   "id": "478a48b3-b9fb-4b3b-9a6f-de500776aebe",
   "metadata": {},
   "outputs": [],
   "source": [
    "def run_k_fold(k_fold_data):\n",
    "    best = 0\n",
    "    best_accuracy = -1\n",
    "    k = len(k_fold_data)\n",
    "    for i in range(k):\n",
    "        xtest, ytest = k_fold_data[i]\n",
    "        xtrain, ytrain = (np.zeros(xtest.shape),np.zeros(ytest.shape))\n",
    "        for j in range(k):\n",
    "            if i == j:\n",
    "                continue\n",
    "            else:\n",
    "                xtrain = xtrain + k_fold_data[j][0]\n",
    "                ytrain = ytrain + k_fold_data[j][1]\n",
    "        learning_rate = 0.01\n",
    "        no_iterations = 3000\n",
    "        w, b = weightInitialization(xtrain.shape[1])\n",
    "        coeff, _, _ = model_predict(w, b, xtrain, ytrain, learning_rate, no_iterations)\n",
    "        final_pred = sigmoid_activation(np.dot(xtest, coeff[\"w\"]) + coeff[\"b\"])\n",
    "        y_pred = predict(final_pred)\n",
    "        accuracy = accuracy_score(ytest, y_pred)\n",
    "        print(i,\"Accuracy:\", accuracy)\n",
    "        if accuracy > best_accuracy:\n",
    "            best_accuracy = accuracy\n",
    "            best = i\n",
    "    return best"
   ]
  },
  {
   "cell_type": "code",
   "execution_count": 21,
   "id": "60dae078-1f7e-44d7-873b-06666ef38489",
   "metadata": {},
   "outputs": [],
   "source": [
    "def weightInitialization(n_features):\n",
    "    w = np.zeros((n_features, 1))\n",
    "    b = 0\n",
    "    return w, b"
   ]
  },
  {
   "cell_type": "code",
   "execution_count": 22,
   "id": "b8388a8b-8b98-4de7-8570-983192e78ed8",
   "metadata": {},
   "outputs": [],
   "source": [
    "def sigmoid_activation(result):\n",
    "    return 1 / (1 + np.exp(-np.clip(result, -100, 100)))"
   ]
  },
  {
   "cell_type": "code",
   "execution_count": 23,
   "id": "50ceb42e-f081-40ae-80b6-fb79dcb8460b",
   "metadata": {},
   "outputs": [],
   "source": [
    "def model_optimize(w, b, X, Y):\n",
    "    m = X.shape[0]\n",
    "    \n",
    "    # Prediction\n",
    "    final_result = sigmoid_activation(np.dot(X, w) + b)\n",
    "    \n",
    "    epsilon = 1e-15  # Small constant to avoid division by zero\n",
    "    final_result = np.clip(final_result, epsilon, 1 - epsilon)  # Clip predictions to prevent extreme values\n",
    "    \n",
    "    cost = (-1/m) * np.sum(Y * np.log(final_result) + (1 - Y) * np.log(1 - final_result))\n",
    "    \n",
    "    # Gradient calculation\n",
    "    dw = (1/m) * np.dot(X.T, (final_result - Y))\n",
    "    db = (1/m) * np.sum(final_result - Y)\n",
    "    \n",
    "    grads = {\"dw\": dw, \"db\": db}\n",
    "    \n",
    "    return grads, cost"
   ]
  },
  {
   "cell_type": "code",
   "execution_count": 24,
   "id": "0880d34b-7236-457e-9412-12b65532a668",
   "metadata": {},
   "outputs": [],
   "source": [
    "def model_predict(w, b, X, Y, learning_rate, no_iterations):\n",
    "    costs = []\n",
    "    for i in range(no_iterations):\n",
    "        grads, cost = model_optimize(w, b, X, Y)\n",
    "        dw = grads[\"dw\"]\n",
    "        db = grads[\"db\"]\n",
    "        \n",
    "        # Weight update\n",
    "        w = w - learning_rate * dw\n",
    "        b = b - learning_rate * db\n",
    "        \n",
    "        if i % 100 == 0:\n",
    "            costs.append(cost)\n",
    "    \n",
    "    coeff = {\"w\": w, \"b\": b}\n",
    "    gradient = {\"dw\": dw, \"db\": db}\n",
    "    \n",
    "    return coeff, gradient, costs"
   ]
  },
  {
   "cell_type": "code",
   "execution_count": 25,
   "id": "539e5d19-abc7-4b16-af0d-5703b148619a",
   "metadata": {},
   "outputs": [],
   "source": [
    "def predict(final_pred):\n",
    "    # return final_pred\n",
    "    y_preds = []\n",
    "    for pred in final_pred:\n",
    "        y_pred = np.zeros((1, pred.shape[0]))\n",
    "        for i in range(pred.shape[0]):\n",
    "            if pred[0][i] > 0.5:\n",
    "                y_pred[0][i] = 1\n",
    "        y_preds.append(y_pred)\n",
    "    return y_preds"
   ]
  },
  {
   "cell_type": "code",
   "execution_count": 26,
   "id": "8e08600d-55a2-4402-9ee4-b360526c37cb",
   "metadata": {},
   "outputs": [],
   "source": [
    "def change(y_preds):\n",
    "    for i in range(len(y_preds)):\n",
    "        for j in range(len(y_preds[i][0])):\n",
    "            if y_preds[i][0][j] == 0:\n",
    "                y_preds[i][0][j] = -1\n",
    "            elif y_preds[i][0][j] == 1:\n",
    "                y_preds[i][0][j] = i\n",
    "    y_pred = y_preds[0][0]\n",
    "    for i in range(len(y_preds)):\n",
    "        for j in range(len(y_preds[i][0])):\n",
    "            if y_pred[j] == -1 and y_preds[i][0][j] !=-1:\n",
    "                y_pred[j] = y_preds[i][0][j]\n",
    "    return y_pred"
   ]
  },
  {
   "cell_type": "code",
   "execution_count": 37,
   "id": "7fe11360-97cc-4b59-82cf-e92884f075f6",
   "metadata": {},
   "outputs": [],
   "source": [
    "learning_rate = 0.001\n",
    "no_iterations = 5000"
   ]
  },
  {
   "cell_type": "code",
   "execution_count": 38,
   "id": "0e3a3468-2ed0-48a0-a0ff-22c56ccad90d",
   "metadata": {},
   "outputs": [],
   "source": [
    "num_classes = len(np.unique(y_train))\n",
    "weights = []\n",
    "biases = []\n",
    "\n",
    "for _ in range(num_classes):\n",
    "    w, b = weightInitialization(X_train.shape[1])\n",
    "    weights.append(w)\n",
    "    biases.append(b)"
   ]
  },
  {
   "cell_type": "code",
   "execution_count": 39,
   "id": "352dcc61-1653-458e-bbe7-68438a25996f",
   "metadata": {},
   "outputs": [],
   "source": [
    "coeffs = []\n",
    "for i in range(num_classes):\n",
    "    y_train_class = (y_train == i).astype(int)\n",
    "    coeff, _, _ = model_predict(weights[i], biases[i], X_train, y_train_class, learning_rate, no_iterations)\n",
    "    coeffs.append(coeff)"
   ]
  },
  {
   "cell_type": "code",
   "execution_count": 40,
   "id": "61ef98e8-240e-40ee-b87c-b3c8c59cdea7",
   "metadata": {},
   "outputs": [],
   "source": [
    "final_preds = []\n",
    "for i in range(num_classes):\n",
    "    final_pred = sigmoid_activation(np.dot(X_test, coeffs[i][\"w\"]) + coeffs[i][\"b\"])\n",
    "    final_preds.append(final_pred)"
   ]
  },
  {
   "cell_type": "code",
   "execution_count": 42,
   "id": "1557c40e-abfd-4e90-8f0a-e6fbcd9fbdd1",
   "metadata": {},
   "outputs": [
    {
     "name": "stdout",
     "output_type": "stream",
     "text": [
      "[array([[6.51780160e-05, 6.51780160e-05, 6.51780160e-05, ...,\n",
      "        6.51780160e-05, 9.99966677e-01, 9.99966677e-01],\n",
      "       [8.24523922e-04, 8.24523922e-04, 8.24523922e-04, ...,\n",
      "        8.24523922e-04, 9.98433315e-01, 9.98433315e-01],\n",
      "       [1.76642116e-05, 1.76642116e-05, 1.76642116e-05, ...,\n",
      "        1.76642116e-05, 9.99995685e-01, 9.99995685e-01],\n",
      "       ...,\n",
      "       [5.29552325e-04, 5.29552325e-04, 5.29552325e-04, ...,\n",
      "        5.29552325e-04, 9.99233349e-01, 9.99233349e-01],\n",
      "       [1.22824074e-04, 1.22824074e-04, 1.22824074e-04, ...,\n",
      "        1.22824074e-04, 9.99913005e-01, 9.99913005e-01],\n",
      "       [3.75809664e-05, 3.75809664e-05, 3.75809664e-05, ...,\n",
      "        3.75809664e-05, 9.99986374e-01, 9.99986374e-01]]), array([[9.99962328e-01, 9.99962328e-01, 6.20714204e-05, ...,\n",
      "        9.99962328e-01, 6.20714204e-05, 6.20714204e-05],\n",
      "       [9.98519707e-01, 9.98519707e-01, 9.13734182e-04, ...,\n",
      "        9.98519707e-01, 9.13734182e-04, 9.13734182e-04],\n",
      "       [9.99994620e-01, 9.99994620e-01, 1.54544993e-05, ...,\n",
      "        9.99994620e-01, 1.54544993e-05, 1.54544993e-05],\n",
      "       ...,\n",
      "       [9.99249741e-01, 9.99249741e-01, 5.68890579e-04, ...,\n",
      "        9.99249741e-01, 5.68890579e-04, 5.68890579e-04],\n",
      "       [9.99905944e-01, 9.99905944e-01, 1.21458219e-04, ...,\n",
      "        9.99905944e-01, 1.21458219e-04, 1.21458219e-04],\n",
      "       [9.99983900e-01, 9.99983900e-01, 3.44122033e-05, ...,\n",
      "        9.99983900e-01, 3.44122033e-05, 3.44122033e-05]]), array([[6.63020327e-05, 6.63020327e-05, 9.99968472e-01, ...,\n",
      "        6.63020327e-05, 6.63020327e-05, 6.63020327e-05],\n",
      "       [7.88929692e-04, 7.88929692e-04, 9.98399072e-01, ...,\n",
      "        7.88929692e-04, 7.88929692e-04, 7.88929692e-04],\n",
      "       [1.85920514e-05, 1.85920514e-05, 9.99996082e-01, ...,\n",
      "        1.85920514e-05, 1.85920514e-05, 1.85920514e-05],\n",
      "       ...,\n",
      "       [5.13036737e-04, 5.13036737e-04, 9.99227831e-01, ...,\n",
      "        5.13036737e-04, 5.13036737e-04, 5.13036737e-04],\n",
      "       [1.23055582e-04, 1.23055582e-04, 9.99916098e-01, ...,\n",
      "        1.23055582e-04, 1.23055582e-04, 1.23055582e-04],\n",
      "       [3.88341968e-05, 3.88341968e-05, 9.99987339e-01, ...,\n",
      "        3.88341968e-05, 3.88341968e-05, 3.88341968e-05]])]\n",
      "Accuracy: 0.23333333333333334\n"
     ]
    },
    {
     "data": {
      "text/plain": [
       "(array([1., 1., 2., 0., 0., 1., 0., 1., 2., 2., 0., 1., 2., 2., 0., 0., 0.,\n",
       "        0., 1., 0., 0., 0., 1., 2., 2., 1., 2., 1., 2., 2.]),\n",
       " array([2, 0, 2, 0, 2, 2, 0, 0, 2, 0, 0, 2, 0, 0, 2, 1, 1, 1, 2, 2, 2, 0,\n",
       "        2, 0, 1, 2, 1, 0, 1, 2]))"
      ]
     },
     "execution_count": 42,
     "metadata": {},
     "output_type": "execute_result"
    }
   ],
   "source": [
    "print(final_preds)\n",
    "y_preds = predict(final_preds)\n",
    "y_pred = change(y_preds)\n",
    "# Calculate accuracy\n",
    "accuracy = accuracy_score(y_test, y_pred)\n",
    "print(\"Accuracy:\", accuracy)\n",
    "y_pred,y_test"
   ]
  },
  {
   "cell_type": "code",
   "execution_count": null,
   "id": "74241c62-3e21-4f74-a6f1-9cd76ab76215",
   "metadata": {},
   "outputs": [],
   "source": []
  }
 ],
 "metadata": {
  "kernelspec": {
   "display_name": "Python 3 (ipykernel)",
   "language": "python",
   "name": "python3"
  },
  "language_info": {
   "codemirror_mode": {
    "name": "ipython",
    "version": 3
   },
   "file_extension": ".py",
   "mimetype": "text/x-python",
   "name": "python",
   "nbconvert_exporter": "python",
   "pygments_lexer": "ipython3",
   "version": "3.11.5"
  }
 },
 "nbformat": 4,
 "nbformat_minor": 5
}
