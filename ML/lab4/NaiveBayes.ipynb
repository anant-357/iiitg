{
 "cells": [
  {
   "cell_type": "code",
   "execution_count": 9,
   "id": "6578aaea-5679-4b45-b410-568a5339f009",
   "metadata": {},
   "outputs": [],
   "source": [
    "import pandas as pd\n",
    "from collections import defaultdict\n",
    "from sklearn.model_selection import train_test_split\n",
    "from sklearn.metrics import accuracy_score\n",
    "\n",
    "data = pd.read_csv('car_evaluation.csv')"
   ]
  },
  {
   "cell_type": "code",
   "execution_count": 10,
   "id": "9f1e652d-36fc-40f4-8328-c8969143a6c5",
   "metadata": {},
   "outputs": [],
   "source": [
    "X = data.drop(\"unacc\", axis=1)\n",
    "y = data[\"unacc\"]\n",
    "X_train, X_test, y_train, y_test = train_test_split(X, y, test_size=0.3, random_state=100)"
   ]
  },
  {
   "cell_type": "code",
   "execution_count": 11,
   "id": "b35f5f79-625c-4bb9-a16b-cd4eacc07c8d",
   "metadata": {},
   "outputs": [],
   "source": [
    "class NaiveBayesClassifier:\n",
    "    def __init__(self):\n",
    "        self.class_probabilities = defaultdict(int)\n",
    "        self.feature_value_probs_given_class = defaultdict(lambda: defaultdict(lambda: defaultdict(int)))\n",
    "    \n",
    "    def fit(self, X, y):\n",
    "        total_samples = len(y)\n",
    "        unique_classes = y.unique()\n",
    "        \n",
    "        # class probabilities\n",
    "        for cls in unique_classes:\n",
    "            self.class_probabilities[cls] = (y[y == cls].count()) / total_samples\n",
    "        \n",
    "        # Calculate feature probabilities given class\n",
    "        for cls in unique_classes:\n",
    "            class_samples = X[y == cls]\n",
    "            total_samples_in_class = len(class_samples)\n",
    "            \n",
    "            for feature in X.columns:\n",
    "                for value in X[feature].unique():\n",
    "                    value_count = class_samples[feature][class_samples[feature] == value].count()\n",
    "                    self.feature_value_probs_given_class[cls][feature][value] = value_count / total_samples_in_class\n",
    "    \n",
    "    def predict(self, X):\n",
    "        predictions = []\n",
    "        for _, row in X.iterrows():\n",
    "            class_scores = {}\n",
    "            for cls, class_prob in self.class_probabilities.items():\n",
    "                likelihood = 1.0\n",
    "                for feature, value in row.items():\n",
    "                    likelihood *= self.feature_value_probs_given_class[cls][feature][value]\n",
    "                class_scores[cls] = class_prob * likelihood\n",
    "            predicted_class = max(class_scores, key=class_scores.get)\n",
    "            predictions.append(predicted_class)\n",
    "        return predictions"
   ]
  },
  {
   "cell_type": "code",
   "execution_count": 12,
   "id": "90ba3136-3d2a-4400-b3c4-4cbd4b31baa2",
   "metadata": {},
   "outputs": [],
   "source": [
    "naive_bayes = NaiveBayesClassifier()\n",
    "naive_bayes.fit(X_train, y_train)"
   ]
  },
  {
   "cell_type": "code",
   "execution_count": 13,
   "id": "f4c6d467-648f-457c-a0d1-5340e482b8a2",
   "metadata": {},
   "outputs": [],
   "source": [
    "y_pred = naive_bayes.predict(X_test)"
   ]
  },
  {
   "cell_type": "code",
   "execution_count": 14,
   "id": "652ef3d1-4df7-4e48-8dbe-d77e4ca942ca",
   "metadata": {},
   "outputs": [
    {
     "name": "stdout",
     "output_type": "stream",
     "text": [
      "Accuracy: 0.8458574181117534\n"
     ]
    }
   ],
   "source": [
    "accuracy = accuracy_score(y_test, y_pred)\n",
    "print(\"Accuracy:\", accuracy)"
   ]
  },
  {
   "cell_type": "code",
   "execution_count": 15,
   "id": "6825c090-19b5-472c-ad33-2f4942fe4f3c",
   "metadata": {},
   "outputs": [
    {
     "data": {
      "text/plain": [
       "defaultdict(int,\n",
       "            {'unacc': 0.6928807947019867,\n",
       "             'acc': 0.23096026490066227,\n",
       "             'good': 0.03890728476821192,\n",
       "             'vgood': 0.037251655629139076})"
      ]
     },
     "execution_count": 15,
     "metadata": {},
     "output_type": "execute_result"
    }
   ],
   "source": [
    "naive_bayes.class_probabilities"
   ]
  },
  {
   "cell_type": "code",
   "execution_count": 16,
   "id": "8525e581-d40c-47cc-8ed3-5422be52a52a",
   "metadata": {},
   "outputs": [
    {
     "data": {
      "text/plain": [
       "defaultdict(<function __main__.NaiveBayesClassifier.__init__.<locals>.<lambda>()>,\n",
       "            {'unacc': defaultdict(<function __main__.NaiveBayesClassifier.__init__.<locals>.<lambda>.<locals>.<lambda>()>,\n",
       "                         {'vhigh': defaultdict(int,\n",
       "                                      {'high': 0.2712066905615293,\n",
       "                                       'low': 0.21863799283154123,\n",
       "                                       'vhigh': 0.2951015531660693,\n",
       "                                       'med': 0.21505376344086022}),\n",
       "                          'vhigh.1': defaultdict(int,\n",
       "                                      {'low': 0.22341696535244923,\n",
       "                                       'vhigh': 0.2986857825567503,\n",
       "                                       'med': 0.22461170848267623,\n",
       "                                       'high': 0.2532855436081243}),\n",
       "                          '2': defaultdict(int,\n",
       "                                      {'2': 0.2855436081242533,\n",
       "                                       '4': 0.24372759856630824,\n",
       "                                       '5more': 0.22580645161290322,\n",
       "                                       '3': 0.24492234169653523}),\n",
       "                          '2.1': defaultdict(int,\n",
       "                                      {'more': 0.25806451612903225,\n",
       "                                       '4': 0.26642771804062126,\n",
       "                                       '2': 0.4755077658303465}),\n",
       "                          'small': defaultdict(int,\n",
       "                                      {'small': 0.37037037037037035,\n",
       "                                       'big': 0.3130227001194743,\n",
       "                                       'med': 0.31660692951015534}),\n",
       "                          'low': defaultdict(int,\n",
       "                                      {'med': 0.2998805256869773,\n",
       "                                       'high': 0.21863799283154123,\n",
       "                                       'low': 0.48148148148148145})}),\n",
       "             'acc': defaultdict(<function __main__.NaiveBayesClassifier.__init__.<locals>.<lambda>.<locals>.<lambda>()>,\n",
       "                         {'vhigh': defaultdict(int,\n",
       "                                      {'high': 0.27956989247311825,\n",
       "                                       'low': 0.25089605734767023,\n",
       "                                       'vhigh': 0.16487455197132617,\n",
       "                                       'med': 0.3046594982078853}),\n",
       "                          'vhigh.1': defaultdict(int,\n",
       "                                      {'low': 0.23297491039426524,\n",
       "                                       'vhigh': 0.1971326164874552,\n",
       "                                       'med': 0.2974910394265233,\n",
       "                                       'high': 0.2724014336917563}),\n",
       "                          '2': defaultdict(int,\n",
       "                                      {'2': 0.21863799283154123,\n",
       "                                       '4': 0.26881720430107525,\n",
       "                                       '5more': 0.26523297491039427,\n",
       "                                       '3': 0.24731182795698925}),\n",
       "                          '2.1': defaultdict(int,\n",
       "                                      {'more': 0.4767025089605735,\n",
       "                                       '4': 0.5232974910394266,\n",
       "                                       '2': 0.0}),\n",
       "                          'small': defaultdict(int,\n",
       "                                      {'small': 0.3010752688172043,\n",
       "                                       'big': 0.36200716845878134,\n",
       "                                       'med': 0.33691756272401435}),\n",
       "                          'low': defaultdict(int,\n",
       "                                      {'med': 0.4659498207885305,\n",
       "                                       'high': 0.5340501792114696,\n",
       "                                       'low': 0.0})}),\n",
       "             'good': defaultdict(<function __main__.NaiveBayesClassifier.__init__.<locals>.<lambda>.<locals>.<lambda>()>,\n",
       "                         {'vhigh': defaultdict(int,\n",
       "                                      {'high': 0.0,\n",
       "                                       'low': 0.6808510638297872,\n",
       "                                       'vhigh': 0.0,\n",
       "                                       'med': 0.3191489361702128}),\n",
       "                          'vhigh.1': defaultdict(int,\n",
       "                                      {'low': 0.6595744680851063,\n",
       "                                       'vhigh': 0.0,\n",
       "                                       'med': 0.3404255319148936,\n",
       "                                       'high': 0.0}),\n",
       "                          '2': defaultdict(int,\n",
       "                                      {'2': 0.2553191489361702,\n",
       "                                       '4': 0.2553191489361702,\n",
       "                                       '5more': 0.2127659574468085,\n",
       "                                       '3': 0.2765957446808511}),\n",
       "                          '2.1': defaultdict(int,\n",
       "                                      {'more': 0.5106382978723404,\n",
       "                                       '4': 0.48936170212765956,\n",
       "                                       '2': 0.0}),\n",
       "                          'small': defaultdict(int,\n",
       "                                      {'small': 0.2978723404255319,\n",
       "                                       'big': 0.3829787234042553,\n",
       "                                       'med': 0.3191489361702128}),\n",
       "                          'low': defaultdict(int,\n",
       "                                      {'med': 0.5957446808510638,\n",
       "                                       'high': 0.40425531914893614,\n",
       "                                       'low': 0.0})}),\n",
       "             'vgood': defaultdict(<function __main__.NaiveBayesClassifier.__init__.<locals>.<lambda>.<locals>.<lambda>()>,\n",
       "                         {'vhigh': defaultdict(int,\n",
       "                                      {'high': 0.0,\n",
       "                                       'low': 0.6222222222222222,\n",
       "                                       'vhigh': 0.0,\n",
       "                                       'med': 0.37777777777777777}),\n",
       "                          'vhigh.1': defaultdict(int,\n",
       "                                      {'low': 0.4888888888888889,\n",
       "                                       'vhigh': 0.0,\n",
       "                                       'med': 0.3333333333333333,\n",
       "                                       'high': 0.17777777777777778}),\n",
       "                          '2': defaultdict(int,\n",
       "                                      {'2': 0.17777777777777778,\n",
       "                                       '4': 0.2,\n",
       "                                       '5more': 0.3333333333333333,\n",
       "                                       '3': 0.28888888888888886}),\n",
       "                          '2.1': defaultdict(int,\n",
       "                                      {'more': 0.4666666666666667,\n",
       "                                       '4': 0.5333333333333333,\n",
       "                                       '2': 0.0}),\n",
       "                          'small': defaultdict(int,\n",
       "                                      {'small': 0.0,\n",
       "                                       'big': 0.6888888888888889,\n",
       "                                       'med': 0.3111111111111111}),\n",
       "                          'low': defaultdict(int,\n",
       "                                      {'med': 0.0,\n",
       "                                       'high': 1.0,\n",
       "                                       'low': 0.0})})})"
      ]
     },
     "execution_count": 16,
     "metadata": {},
     "output_type": "execute_result"
    }
   ],
   "source": [
    "naive_bayes.feature_value_probs_given_class"
   ]
  },
  {
   "cell_type": "code",
   "execution_count": null,
   "id": "046c2991-13c5-4c5c-a201-185582769e0d",
   "metadata": {},
   "outputs": [],
   "source": []
  }
 ],
 "metadata": {
  "kernelspec": {
   "display_name": "Python 3 (ipykernel)",
   "language": "python",
   "name": "python3"
  },
  "language_info": {
   "codemirror_mode": {
    "name": "ipython",
    "version": 3
   },
   "file_extension": ".py",
   "mimetype": "text/x-python",
   "name": "python",
   "nbconvert_exporter": "python",
   "pygments_lexer": "ipython3",
   "version": "3.11.5"
  }
 },
 "nbformat": 4,
 "nbformat_minor": 5
}
