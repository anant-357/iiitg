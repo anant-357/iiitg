{
 "cells": [
  {
   "cell_type": "code",
   "execution_count": 47,
   "id": "c2d76708-2e2c-42ba-a12a-5f9692bf5f35",
   "metadata": {},
   "outputs": [
    {
     "name": "stdout",
     "output_type": "stream",
     "text": [
      "Mean Accuracy using k-fold CV: 82.5\n",
      "Accuracy on the test set: 90.0\n"
     ]
    }
   ],
   "source": [
    "import numpy as np\n",
    "from sklearn.datasets import load_iris\n",
    "from sklearn.model_selection import train_test_split\n",
    "from sklearn.preprocessing import StandardScaler\n",
    "from sklearn.model_selection import KFold\n",
    "\n",
    "\n",
    "class LogisticRegression:\n",
    "    def __init__(self, learning_rate=0.01, num_iterations=5000):\n",
    "        self.learning_rate = learning_rate\n",
    "        self.num_iterations = num_iterations\n",
    "    \n",
    "    def sigmoid(self, z):\n",
    "        return 1 / (1 + np.exp(-z))\n",
    "    \n",
    "    def fit(self, X, y):\n",
    "        self.num_classes = len(np.unique(y))\n",
    "        self.theta = np.zeros((self.num_classes, X.shape[1]))\n",
    "        \n",
    "        for class_label in range(self.num_classes):\n",
    "            y_binary = (y == class_label).astype(int)\n",
    "            \n",
    "            for _ in range(self.num_iterations):\n",
    "                z = np.dot(X, self.theta[class_label])\n",
    "                h = self.sigmoid(z)\n",
    "                gradient = np.dot(X.T, (h - y_binary)) / y_binary.size\n",
    "                self.theta[class_label] -= self.learning_rate * gradient\n",
    "    \n",
    "    def predict_proba(self, X):\n",
    "        return self.sigmoid(np.dot(X, self.theta.T))\n",
    "    \n",
    "    def predict(self, X):\n",
    "        probabilities = self.predict_proba(X)\n",
    "        return np.argmax(probabilities, axis=1)\n",
    "\n",
    "iris = load_iris()\n",
    "X = iris.data\n",
    "y = iris.target\n",
    "\n",
    "# Standardize features\n",
    "scaler = StandardScaler()\n",
    "X = scaler.fit_transform(X)\n",
    "\n",
    "# Split the dataset into training (80%) and testing (20%) sets using a train-test split\n",
    "X_train, X_test, y_train, y_test = train_test_split(X, y, test_size=0.2, random_state=4)\n",
    "\n",
    "# Initialize the k-fold cross-validation\n",
    "num_folds = 5\n",
    "kf = KFold(n_splits=num_folds, shuffle=True, random_state=42)\n",
    "\n",
    "accuracies = []\n",
    "\n",
    "for train_idx, val_idx in kf.split(X_train):\n",
    "    X_train_fold, X_val_fold = X_train[train_idx], X_train[val_idx]\n",
    "    y_train_fold, y_val_fold = y_train[train_idx], y_train[val_idx]\n",
    "\n",
    "    # Initialize and fit the logistic regression model\n",
    "    model = LogisticRegression(learning_rate=0.1, num_iterations=1000)\n",
    "    model.fit(X_train_fold, y_train_fold)\n",
    "\n",
    "    # Make predictions on the validation set\n",
    "    y_val_pred = model.predict(X_val_fold)\n",
    "\n",
    "    # Calculate accuracy for this fold\n",
    "    accuracy = np.mean(y_val_pred == y_val_fold)\n",
    "    accuracies.append(accuracy)\n",
    "\n",
    "# Calculate and display the mean accuracy across all folds\n",
    "mean_accuracy = np.mean(accuracies)\n",
    "print(\"Mean Accuracy using k-fold CV:\", mean_accuracy * 100)\n",
    "\n",
    "# Now, evaluate the model's accuracy on the test set using the previously defined train-test split\n",
    "y_test_pred = model.predict(X_test)\n",
    "test_accuracy = np.mean(y_test_pred == y_test)\n",
    "print(\"Accuracy on the test set:\", test_accuracy * 100)"
   ]
  },
  {
   "cell_type": "code",
   "execution_count": null,
   "id": "e65a004d-ae49-4aa7-81e6-d1fc647cf405",
   "metadata": {},
   "outputs": [],
   "source": []
  }
 ],
 "metadata": {
  "kernelspec": {
   "display_name": "Python 3 (ipykernel)",
   "language": "python",
   "name": "python3"
  },
  "language_info": {
   "codemirror_mode": {
    "name": "ipython",
    "version": 3
   },
   "file_extension": ".py",
   "mimetype": "text/x-python",
   "name": "python",
   "nbconvert_exporter": "python",
   "pygments_lexer": "ipython3",
   "version": "3.11.5"
  }
 },
 "nbformat": 4,
 "nbformat_minor": 5
}
