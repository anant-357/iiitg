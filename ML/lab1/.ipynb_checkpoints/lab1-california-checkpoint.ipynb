{
 "cells": [
  {
   "cell_type": "markdown",
   "metadata": {},
   "source": [
    "Linear Regression"
   ]
  },
  {
   "cell_type": "code",
   "execution_count": null,
   "metadata": {},
   "outputs": [],
   "source": [
    "%matplotlib inline\n",
    "import numpy as np\n",
    "import matplotlib.pyplot as plt\n",
    "from sklearn import datasets,model_selection"
   ]
  },
  {
   "cell_type": "code",
   "execution_count": null,
   "metadata": {},
   "outputs": [],
   "source": [
    "california = datasets.fetch_california_housing()\n",
    "x = california[\"data\"]\n",
    "y = california[\"target\"]\n",
    "\n",
    "X_train, X_test, y_train, y_test = model_selection.train_test_split(x, y, test_size=0.1)\n",
    "# (20640,) (20640,8) \n",
    "\n",
    "n = X_train.shape[0]\n",
    "y_train = np.log1p(y_train)\n",
    "y_test = np.log1p(y_test)\n",
    "\n"
   ]
  },
  {
   "cell_type": "code",
   "execution_count": null,
   "metadata": {},
   "outputs": [],
   "source": [
    "X_train.shape"
   ]
  },
  {
   "cell_type": "code",
   "execution_count": null,
   "metadata": {},
   "outputs": [],
   "source": [
    "def gradientDescent(y_exp, y_pred,x, n):\n",
    "    error = y_exp-y_pred\n",
    "    slope_gradient = (-1/2*n)* np.dot(x.T, error)\n",
    "    intercept_gradient =  (-1/2*n)*np.sum(error)\n",
    "    return slope_gradient, intercept_gradient    \n",
    "    "
   ]
  },
  {
   "cell_type": "code",
   "execution_count": null,
   "metadata": {},
   "outputs": [],
   "source": [
    "def predict(x, slope, intercept):\n",
    "    return np.dot(x, slope) + intercept\n"
   ]
  },
  {
   "cell_type": "code",
   "execution_count": null,
   "metadata": {},
   "outputs": [],
   "source": [
    "def train(x,y,slope,intercept,learningRate, iterations, n):\n",
    "    for _ in range(iterations):\n",
    "        y_pred = predict(x,slope,intercept)\n",
    "        slope_gradient, intercept_gradient = gradientDescent(y,y_pred, x,n)\n",
    "\n",
    "        slope -= slope_gradient*learningRate\n",
    "        intercept -= intercept_gradient*learningRate\n",
    "        print(slope, intercept)\n",
    "\n",
    "    return slope, intercept\n",
    "        # y_line = slope*x + intercept\n",
    "        # plt.plot(y, y_line,color='k')z"
   ]
  },
  {
   "cell_type": "code",
   "execution_count": null,
   "metadata": {},
   "outputs": [],
   "source": [
    "slope = np.zeros(X_train.shape[1])\n",
    "intercept = np.zeros(1)\n",
    "learningRate = 0.000000000000001\n",
    "iterations = 2000\n",
    "slope, intercept = train(X_train, y_train,slope,intercept, learningRate, iterations, n)\n",
    "y_pred = predict(X_test,slope,intercept)"
   ]
  },
  {
   "cell_type": "code",
   "execution_count": null,
   "metadata": {},
   "outputs": [],
   "source": [
    "\n",
    "plt.scatter(y_test, y_pred, color='blue', label='Predicted vs. Actual')\n",
    "plt.plot([min(y_train),max(y_train)],[min(y_train),max(y_train)],color='red', linewidth='2')\n",
    "plt.show()"
   ]
  },
  {
   "cell_type": "code",
   "execution_count": null,
   "metadata": {},
   "outputs": [],
   "source": [
    "mse = np.mean((y_test - y_pred)**2)\n",
    "sstot = np.mean((y_test - np.mean(y_test))**2)\n",
    "r2 = 1-(mse/sstot)\n",
    "print(\"MSE:\", mse, r2)"
   ]
  },
  {
   "cell_type": "code",
   "execution_count": null,
   "metadata": {},
   "outputs": [],
   "source": []
  }
 ],
 "metadata": {
  "kernelspec": {
   "display_name": "Python 3 (ipykernel)",
   "language": "python",
   "name": "python3"
  },
  "language_info": {
   "codemirror_mode": {
    "name": "ipython",
    "version": 3
   },
   "file_extension": ".py",
   "mimetype": "text/x-python",
   "name": "python",
   "nbconvert_exporter": "python",
   "pygments_lexer": "ipython3",
   "version": "3.11.5"
  }
 },
 "nbformat": 4,
 "nbformat_minor": 4
}
