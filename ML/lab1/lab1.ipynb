{
 "cells": [
  {
   "cell_type": "markdown",
   "metadata": {},
   "source": [
    "Linear Regression"
   ]
  },
  {
   "cell_type": "code",
   "execution_count": null,
   "metadata": {},
   "outputs": [],
   "source": [
    "%matplotlib inline\n",
    "import numpy as np\n",
    "import matplotlib.pyplot as plt"
   ]
  },
  {
   "cell_type": "code",
   "execution_count": null,
   "metadata": {},
   "outputs": [],
   "source": [
    "x = np.array([0,1,2,3,4,5,6,7,8,9]).reshape(-1,1)\n",
    "y = np.array([1,3,2,5,7,8,8,9,10,12]).reshape(-1,1)\n",
    "learningRate = 0.001\n",
    "iterations = 1000\n",
    "n = 10\n",
    "\n",
    "slope = 0\n",
    "intercept = 0\n"
   ]
  },
  {
   "cell_type": "code",
   "execution_count": null,
   "metadata": {},
   "outputs": [],
   "source": [
    "def train(x,y,slope,intercept,learningRate, iterations, n):\n",
    "    for _ in range(iterations):\n",
    "        y_pred = np.dot(x, slope) + intercept\n",
    "        error = y-y_pred\n",
    "        slope_gradient = (-1/2*n)* np.dot(x.T, error)\n",
    "        intercept_gradient =  (-1/n)*np.sum(error)\n",
    "\n",
    "        slope -= slope_gradient*learningRate\n",
    "        intercept -= intercept_gradient*learningRate\n",
    "\n",
    "    return slope, intercept"
   ]
  },
  {
   "cell_type": "code",
   "execution_count": null,
   "metadata": {},
   "outputs": [],
   "source": [
    "def predict(x, slope, intercept):\n",
    "    return np.dot(x, slope) + intercept"
   ]
  },
  {
   "cell_type": "code",
   "execution_count": null,
   "metadata": {},
   "outputs": [],
   "source": [
    "slope = 0\n",
    "intercept = 0\n",
    "slope, intercept = train(x, y,slope,intercept, learningRate, iterations, n)\n",
    "# plt.cla()\n",
    "plt.scatter(x, y,color='g') \n",
    "print(slope, intercept)\n",
    "plt.plot(x,predict(x,slope,intercept))\n",
    "plt.show()\n",
    "\n",
    "\n",
    " "
   ]
  }
 ],
 "metadata": {
  "kernelspec": {
   "display_name": "Python 3 (ipykernel)",
   "language": "python",
   "name": "python3"
  },
  "language_info": {
   "codemirror_mode": {
    "name": "ipython",
    "version": 3
   },
   "file_extension": ".py",
   "mimetype": "text/x-python",
   "name": "python",
   "nbconvert_exporter": "python",
   "pygments_lexer": "ipython3",
   "version": "3.11.5"
  }
 },
 "nbformat": 4,
 "nbformat_minor": 4
}
