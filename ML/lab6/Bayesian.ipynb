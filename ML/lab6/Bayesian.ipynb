{
 "cells": [
  {
   "cell_type": "code",
   "execution_count": 3,
   "id": "ce8f73d6-938f-4225-921a-58fb78c9b6b0",
   "metadata": {},
   "outputs": [
    {
     "name": "stderr",
     "output_type": "stream",
     "text": [
      "/tmp/ipykernel_140020/2105065911.py:18: DeprecationWarning: `product` is deprecated as of NumPy 1.25.0, and will be removed in NumPy 2.0. Please use `prod` instead.\n",
      "  cpd_marks = TabularCPD(variable='Marks', variable_card=2,\n"
     ]
    },
    {
     "data": {
      "text/plain": [
       "True"
      ]
     },
     "execution_count": 3,
     "metadata": {},
     "output_type": "execute_result"
    }
   ],
   "source": [
    "from pgmpy.models import BayesianNetwork\n",
    "from pgmpy.factors.discrete import TabularCPD\n",
    "\n",
    "Exam_model =  BayesianNetwork(\n",
    "    [\n",
    "        (\"Exam_level\", \"Marks\"),\n",
    "        (\"IQ_level\", \"Marks\"),\n",
    "    ]\n",
    ")\n",
    "\n",
    "# Define the conditional probability table for Exam_level\n",
    "cpd_exam = TabularCPD(variable='Exam_level', variable_card=2, values=[[0.7], [0.3]])\n",
    "\n",
    "# Define the conditional probability table for IQ_level\n",
    "cpd_iq = TabularCPD(variable='IQ_level', variable_card=2, values=[[0.8], [0.2]])\n",
    "\n",
    "# Define the conditional probability table for Marks\n",
    "cpd_marks = TabularCPD(variable='Marks', variable_card=2,\n",
    "                       values=[[0.6, 0.9, 0.5, 0.8],\n",
    "                               [0.4, 0.1, 0.5, 0.2]],\n",
    "                       evidence=['Exam_level', 'IQ_level'],\n",
    "                       evidence_card=[2, 2])\n",
    "\n",
    "\n",
    "\n",
    "Exam_model.add_cpds(cpd_exam,cpd_iq,cpd_marks)\n",
    "Exam_model.check_model()\n"
   ]
  },
  {
   "cell_type": "code",
   "execution_count": 4,
   "id": "bc37346d-7cae-41fd-a729-62b38c9559e2",
   "metadata": {},
   "outputs": [
    {
     "name": "stdout",
     "output_type": "stream",
     "text": [
      "True\n"
     ]
    }
   ],
   "source": [
    "print(Exam_model.is_dconnected(\"Exam_level\",\"Marks\"))"
   ]
  },
  {
   "cell_type": "code",
   "execution_count": 5,
   "id": "b3a7cfe5-aa2e-4966-97e2-8ee79b40b831",
   "metadata": {},
   "outputs": [
    {
     "data": {
      "text/plain": [
       "{'Marks': {'Exam_level', 'IQ_level', 'Marks'}}"
      ]
     },
     "execution_count": 5,
     "metadata": {},
     "output_type": "execute_result"
    }
   ],
   "source": [
    "Exam_model.active_trail_nodes(\"Marks\")"
   ]
  },
  {
   "cell_type": "code",
   "execution_count": 6,
   "id": "f3bfe070-149b-490a-93f3-b03364ab8b17",
   "metadata": {},
   "outputs": [
    {
     "name": "stdout",
     "output_type": "stream",
     "text": [
      "Conditional Probabilities for Exam Level Exam_level_0:\n",
      "[0.66 0.34]\n",
      "Conditional Probabilities for Exam Level Exam_level_1:\n",
      "[0.56 0.44]\n"
     ]
    }
   ],
   "source": [
    "from pgmpy.inference import VariableElimination\n",
    "\n",
    "# Create an instance of the VariableElimination class\n",
    "infer = VariableElimination(Exam_model)\n",
    "\n",
    "# Define the target variable for which you want to infer the probabilities (Marks)\n",
    "target_variable = 'Marks'\n",
    "\n",
    "# Initialize an empty dictionary to store the conditional probabilities for both exam levels\n",
    "conditional_probabilities = {}\n",
    "\n",
    "# Iterate through each possible value of Exam_level (0 and 1)\n",
    "for exam_level in [0, 1]:\n",
    "    # Define the evidence for the current exam level\n",
    "    evidence = {'Exam_level': exam_level}\n",
    "\n",
    "    # Compute the conditional probabilities of Marks given the current evidence\n",
    "    result = infer.query(variables=[target_variable], evidence=evidence)\n",
    "\n",
    "    # Store the conditional probabilities in the dictionary\n",
    "    conditional_probabilities[f'Exam_level_{exam_level}'] = result.values\n",
    "\n",
    "# Print the conditional probabilities for both exam levels\n",
    "for exam_level, probabilities in conditional_probabilities.items():\n",
    "    print(f\"Conditional Probabilities for Exam Level {exam_level}:\")\n",
    "    print(probabilities)\n"
   ]
  },
  {
   "cell_type": "code",
   "execution_count": null,
   "id": "96754b8d-609f-48bd-a9d1-2edbef18de64",
   "metadata": {},
   "outputs": [],
   "source": []
  }
 ],
 "metadata": {
  "kernelspec": {
   "display_name": "Python 3 (ipykernel)",
   "language": "python",
   "name": "python3"
  },
  "language_info": {
   "codemirror_mode": {
    "name": "ipython",
    "version": 3
   },
   "file_extension": ".py",
   "mimetype": "text/x-python",
   "name": "python",
   "nbconvert_exporter": "python",
   "pygments_lexer": "ipython3",
   "version": "3.11.5"
  }
 },
 "nbformat": 4,
 "nbformat_minor": 5
}
