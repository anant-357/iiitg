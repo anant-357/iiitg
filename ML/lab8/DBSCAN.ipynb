{
 "cells": [
  {
   "cell_type": "code",
   "execution_count": null,
   "id": "00c200bc-a01c-495b-ad3a-87de2745ba9e",
   "metadata": {},
   "outputs": [],
   "source": [
    "import numpy as np\n",
    "import pandas as pd\n",
    "import matplotlib.pyplot as plt\n",
    "from sklearn.preprocessing import StandardScaler\n",
    "%matplotlib inline"
   ]
  },
  {
   "cell_type": "code",
   "execution_count": null,
   "id": "594ba9c4-7258-4a2b-a8e8-6d4754233277",
   "metadata": {},
   "outputs": [],
   "source": [
    "data = pd.read_csv('housing.csv')"
   ]
  },
  {
   "cell_type": "code",
   "execution_count": null,
   "id": "2a399387-619d-4899-a8df-7575664938be",
   "metadata": {},
   "outputs": [],
   "source": [
    "from sklearn.preprocessing import LabelEncoder\n",
    "le_ocean_proximity= LabelEncoder()\n",
    "data['le_ocean_proximity'] = le_ocean_proximity.fit_transform(data['ocean_proximity'])"
   ]
  },
  {
   "cell_type": "code",
   "execution_count": null,
   "id": "643b2d3e-6936-4576-8c80-936bd4f5a20e",
   "metadata": {},
   "outputs": [],
   "source": [
    "data = data.drop(['ocean_proximity'],axis='columns')"
   ]
  },
  {
   "cell_type": "code",
   "execution_count": null,
   "id": "382adccb-08b2-4576-8496-062b02e6f817",
   "metadata": {},
   "outputs": [],
   "source": [
    "data = data.fillna(data.mean())"
   ]
  },
  {
   "cell_type": "code",
   "execution_count": null,
   "id": "105f3a17-78f2-46ec-b10a-207bae03a61d",
   "metadata": {},
   "outputs": [],
   "source": [
    "scaler = StandardScaler()\n",
    "data = scaler.fit_transform(data)"
   ]
  },
  {
   "cell_type": "code",
   "execution_count": null,
   "id": "982e6ed7-7909-43d2-9909-a28add611f46",
   "metadata": {},
   "outputs": [],
   "source": [
    "# find neighbour points within the circle of given radius\n",
    "def range_query(data_points, epsilon, data):\n",
    "    neighbours = []\n",
    "    for idx, d in enumerate(data):\n",
    "        distance = np.linalg.norm(data_points - d)\n",
    "        if distance <= epsilon and distance != 0:\n",
    "            neighbours.append(idx)\n",
    "    return neighbours"
   ]
  },
  {
   "cell_type": "code",
   "execution_count": null,
   "id": "37c669b1-c311-4b10-a0c8-45eb3ad44579",
   "metadata": {},
   "outputs": [],
   "source": [
    "def own_dbscan(data, epsilon, minimum_points):\n",
    "    labels = np.zeros(data.shape[0])  # Initialize labels as 0 (unassigned)\n",
    "    cluster = 0\n",
    "\n",
    "    for idx, data_point in enumerate(data):\n",
    "        if labels[idx] != 0:\n",
    "            continue  # Point has already been assigned a cluster\n",
    "        n = range_query(data_point, epsilon, data)\n",
    "        if len(n) >= minimum_points:\n",
    "            cluster += 1\n",
    "            labels[idx] = cluster\n",
    "            for i in n:\n",
    "                if labels[i] != 0:\n",
    "                    continue\n",
    "                labels[i] = cluster\n",
    "                # Include border points into the cluster\n",
    "                border_n = range_query(data[i], epsilon, data)\n",
    "                if len(border_n) >= minimum_points:\n",
    "                    n += border_n\n",
    "\n",
    "    return labels"
   ]
  },
  {
   "cell_type": "code",
   "execution_count": null,
   "id": "42c5c9de-0888-4315-b094-a3503b1a98e9",
   "metadata": {},
   "outputs": [],
   "source": [
    "def silhouette_coefficient(X, labels):\n",
    "    return silhouette_samples(X, labels)"
   ]
  },
  {
   "cell_type": "code",
   "execution_count": null,
   "id": "c3a3a1f1-0452-4d24-89e0-dc8198c15814",
   "metadata": {},
   "outputs": [],
   "source": [
    "eps_range = np.arange(0.01, 1.01, 0.03)\n",
    "min_samples_range = range(3, 21, 3)"
   ]
  },
  {
   "cell_type": "markdown",
   "id": "ad33d9d1-9a6c-4996-aa57-b2085182bfd9",
   "metadata": {},
   "source": [
    "for eps in eps_range:\n",
    "    for min_samples in min_samples_range:\n",
    "        # Apply your DBSCAN implementation\n",
    "        labels = own_dbscan(data.values, eps, min_samples)\n",
    "        \n",
    "        # Calculate Silhouette Coefficient\n",
    "        silhouette_scores = silhouette_coefficient(data.values, labels)\n",
    "        mean_silhouette = np.mean(silhouette_scores)\n",
    "        \n",
    "        # Check if this combination is the best\n",
    "        if mean_silhouette > best_silhouette_score:\n",
    "            best_silhouette_score = mean_silhouette\n",
    "            best_eps = eps\n",
    "            best_min_samples = min_samples\n",
    "print(f\"Best EPS: {best_eps}\")\n",
    "print(f\"Best Min Samples: {best_min_samples}\")\n",
    "print(f\"Best Silhouette Coefficient: {best_silhouette_score}\")"
   ]
  },
  {
   "cell_type": "code",
   "execution_count": null,
   "id": "5d82901e-f89b-491b-bcd7-64590a9b934c",
   "metadata": {},
   "outputs": [],
   "source": [
    "data = data[1:2000,:]"
   ]
  },
  {
   "cell_type": "code",
   "execution_count": null,
   "id": "bda728cf-56b1-4683-b785-471aaa950e1a",
   "metadata": {},
   "outputs": [],
   "source": [
    "own_labels = own_dbscan(data,0.5,7)"
   ]
  },
  {
   "cell_type": "code",
   "execution_count": null,
   "id": "25a7c694-8ea2-4abf-8f4c-230007382da5",
   "metadata": {},
   "outputs": [],
   "source": [
    "plt.scatter(data[:,0],data[:,1], marker='o', s=14, c=own_labels, cmap='rainbow')"
   ]
  },
  {
   "cell_type": "code",
   "execution_count": null,
   "id": "b04fccff-6b4b-4503-8c2d-9f5de32fcb4c",
   "metadata": {},
   "outputs": [],
   "source": [
    "from sklearn.cluster import DBSCAN\n",
    "db = DBSCAN(eps=0.6, min_samples=5).fit(data)\n",
    "sklearn_labels = db.labels_\n",
    "sklearn_labels\n",
    "plt.scatter(data[:,0],data[:,1], marker='o', s=14, c=sklearn_labels, cmap='rainbow')"
   ]
  },
  {
   "cell_type": "code",
   "execution_count": null,
   "id": "1df740be-998b-4593-8c92-ab61b89ff397",
   "metadata": {},
   "outputs": [],
   "source": [
    "from sklearn.metrics import silhouette_score\n",
    "sil_avg = silhouette_score(data,sklearn_labels)\n",
    "print(sil_avg)"
   ]
  },
  {
   "cell_type": "code",
   "execution_count": null,
   "id": "7bfffacf-f5bc-423a-9160-586a42063894",
   "metadata": {},
   "outputs": [],
   "source": [
    "from sklearn.metrics import silhouette_samples, silhouette_score\n",
    "\n",
    "eps_range = np.arange(0.01, 1.01, 0.03)\n",
    "min_samples_range = range(3, 21, 3)\n",
    "\n",
    "best_silhouette_score = -1  # Initialize with a low value\n",
    "\n",
    "# for eps in eps_range:\n",
    "for min_samples in min_samples_range:\n",
    "    labels = own_dbscan(data, 1.0, min_samples)  # Use 'data' directly, not 'data.values'\n",
    "    \n",
    "    # Check if all data points are in a single cluster\n",
    "    if len(np.unique(labels)) == 1:\n",
    "        continue  # Skip this combination\n",
    "    \n",
    "    silhouette_avg = silhouette_score(data, labels)  # Use 'data', not 'data.values'\n",
    "    \n",
    "    if silhouette_avg > best_silhouette_score:\n",
    "        best_silhouette_score = silhouette_avg\n",
    "        # best_eps = eps\n",
    "        best_min_samples = min_samples\n",
    "\n",
    "# print(f\"Best EPS: {best_eps}\")\n",
    "print(f\"Best Min Samples: {best_min_samples}\")\n",
    "print(f\"Best Silhouette Coefficient: {best_silhouette_score}\")\n"
   ]
  },
  {
   "cell_type": "code",
   "execution_count": null,
   "id": "482d1f31-2470-4433-819f-2c265e216032",
   "metadata": {},
   "outputs": [],
   "source": []
  }
 ],
 "metadata": {
  "kernelspec": {
   "display_name": "Python 3 (ipykernel)",
   "language": "python",
   "name": "python3"
  },
  "language_info": {
   "codemirror_mode": {
    "name": "ipython",
    "version": 3
   },
   "file_extension": ".py",
   "mimetype": "text/x-python",
   "name": "python",
   "nbconvert_exporter": "python",
   "pygments_lexer": "ipython3",
   "version": "3.11.6"
  }
 },
 "nbformat": 4,
 "nbformat_minor": 5
}
