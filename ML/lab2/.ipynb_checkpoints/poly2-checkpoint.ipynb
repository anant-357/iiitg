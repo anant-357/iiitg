{
 "cells": [
  {
   "cell_type": "code",
   "execution_count": 1,
   "metadata": {},
   "outputs": [],
   "source": [
    "%matplotlib inline\n",
    "import numpy as np\n",
    "import matplotlib.pyplot as plt\n",
    "import random"
   ]
  },
  {
   "cell_type": "code",
   "execution_count": 2,
   "metadata": {},
   "outputs": [],
   "source": [
    "def function(x):\n",
    "    return x**0.5 + 1.7"
   ]
  },
  {
   "cell_type": "code",
   "execution_count": 3,
   "metadata": {},
   "outputs": [
    {
     "ename": "NameError",
     "evalue": "name 'X' is not defined",
     "output_type": "error",
     "traceback": [
      "\u001b[0;31m---------------------------------------------------------------------------\u001b[0m",
      "\u001b[0;31mNameError\u001b[0m                                 Traceback (most recent call last)",
      "Cell \u001b[0;32mIn[3], line 2\u001b[0m\n\u001b[1;32m      1\u001b[0m x \u001b[39m=\u001b[39m np\u001b[39m.\u001b[39marray([random\u001b[39m.\u001b[39muniform(\u001b[39m1\u001b[39m,\u001b[39m3\u001b[39m) \u001b[39mfor\u001b[39;00m i \u001b[39min\u001b[39;00m \u001b[39mrange\u001b[39m(\u001b[39m6\u001b[39m)])\n\u001b[0;32m----> 2\u001b[0m y \u001b[39m=\u001b[39m np\u001b[39m.\u001b[39marray([function(X[i]) \u001b[39mfor\u001b[39;49;00m i \u001b[39min\u001b[39;49;00m \u001b[39mrange\u001b[39;49m(\u001b[39m6\u001b[39;49m)])\n\u001b[1;32m      3\u001b[0m learningRate \u001b[39m=\u001b[39m \u001b[39m0.002\u001b[39m\n\u001b[1;32m      4\u001b[0m iterations \u001b[39m=\u001b[39m \u001b[39m3\u001b[39m\n",
      "Cell \u001b[0;32mIn[3], line 2\u001b[0m, in \u001b[0;36m<listcomp>\u001b[0;34m(.0)\u001b[0m\n\u001b[1;32m      1\u001b[0m x \u001b[39m=\u001b[39m np\u001b[39m.\u001b[39marray([random\u001b[39m.\u001b[39muniform(\u001b[39m1\u001b[39m,\u001b[39m3\u001b[39m) \u001b[39mfor\u001b[39;00m i \u001b[39min\u001b[39;00m \u001b[39mrange\u001b[39m(\u001b[39m6\u001b[39m)])\n\u001b[0;32m----> 2\u001b[0m y \u001b[39m=\u001b[39m np\u001b[39m.\u001b[39marray([function(X[i]) \u001b[39mfor\u001b[39;00m i \u001b[39min\u001b[39;00m \u001b[39mrange\u001b[39m(\u001b[39m6\u001b[39m)])\n\u001b[1;32m      3\u001b[0m learningRate \u001b[39m=\u001b[39m \u001b[39m0.002\u001b[39m\n\u001b[1;32m      4\u001b[0m iterations \u001b[39m=\u001b[39m \u001b[39m3\u001b[39m\n",
      "\u001b[0;31mNameError\u001b[0m: name 'X' is not defined"
     ]
    }
   ],
   "source": [
    "x = np.array([random.uniform(1,3) for i in range(6)])\n",
    "y = np.array([function(x[i]) for i in range(6)])\n",
    "learningRate = 0.002\n",
    "iterations = 3\n",
    "slope = 0\n",
    "intercept = 0"
   ]
  },
  {
   "cell_type": "code",
   "execution_count": null,
   "metadata": {},
   "outputs": [],
   "source": [
    "def train(x,y,slope,intercept,learningRate, iterations):\n",
    "    n = len(x)\n",
    "    for _ in range(iterations):\n",
    "        y_pred = predict(x,slope,intercept)\n",
    "        error = y-y_pred\n",
    "        slope_gradient = (-1/2*n)* np.dot(x.T, error)\n",
    "        intercept_gradient =  (-1/n)*np.sum(error)\n",
    "\n",
    "        slope -= slope_gradient*learningRate\n",
    "        intercept -= intercept_gradient*learningRate\n",
    "        print(\"cost: \", sum(error))\n",
    "        print(\"slope: \", slope, \"intercept: \", intercept)\n",
    "        plt.plot(x,predict(x,slope,intercept), color='r')\n",
    "\n",
    "\n",
    "    return slope, intercept"
   ]
  },
  {
   "cell_type": "code",
   "execution_count": null,
   "metadata": {},
   "outputs": [
    {
     "name": "stdout",
     "output_type": "stream",
     "text": [
      "cost:  19.22457954745282\n",
      "slope:  0.17981447013409715 intercept:  0.006408193182484273\n",
      "cost:  17.5062171583037\n",
      "slope:  0.340752606744803 intercept:  0.01224359890191884\n",
      "cost:  15.967643276952414\n",
      "slope:  0.4847903842277403 intercept:  0.017566146660902976\n"
     ]
    },
    {
     "data": {
      "image/png": "[encoded data removed]",
      "text/plain": [
       "<Figure size 640x480 with 1 Axes>"
      ]
     },
     "metadata": {},
     "output_type": "display_data"
    }
   ],
   "source": [
    "slope = 0\n",
    "intercept = 0\n",
    "slope, intercept = train(x, y,slope,intercept, learningRate, iterations)\n",
    "# plt.cla()\n",
    "plt.scatter(x, y,color='g') \n",
    "plt.show()\n"
   ]
  },
  {
   "cell_type": "code",
   "execution_count": null,
   "metadata": {},
   "outputs": [],
   "source": [
    "def predict(x, slope, intercept):\n",
    "    return np.dot(x, slope) + intercept"
   ]
  }
 ],
 "metadata": {
  "kernelspec": {
   "display_name": "python-pip",
   "language": "python",
   "name": "python3"
  },
  "language_info": {
   "codemirror_mode": {
    "name": "ipython",
    "version": 3
   },
   "file_extension": ".py",
   "mimetype": "text/x-python",
   "name": "python",
   "nbconvert_exporter": "python",
   "pygments_lexer": "ipython3",
   "version": "3.11.3"
  },
  "orig_nbformat": 4
 },
 "nbformat": 4,
 "nbformat_minor": 2
}
