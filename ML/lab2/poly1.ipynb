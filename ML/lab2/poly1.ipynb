{
 "cells": [
  {
   "cell_type": "code",
   "execution_count": 8,
   "metadata": {},
   "outputs": [],
   "source": [
    "%matplotlib inline\n",
    "import numpy as np\n",
    "import matplotlib.pyplot as plt"
   ]
  },
  {
   "cell_type": "code",
   "execution_count": 9,
   "metadata": {},
   "outputs": [],
   "source": [
    "def function(x, coeff):\n",
    "    return coeff[0]*x**2 + coeff[1]*x + coeff[2]"
   ]
  },
  {
   "cell_type": "code",
   "execution_count": 10,
   "metadata": {},
   "outputs": [],
   "source": [
    "X=np.array([0,1,2,3,1,1.5])\n",
    "Y =np.array([1,2,1.5,2,1,2])\n",
    "degrees = 2\n",
    "iterations = 1000\n",
    "learningRate = 0.00001\n",
    "n = len(X)\n",
    "\n",
    "coeff = np.array([0.,0.,0.])\n",
    "\n",
    "y = np.array([function(X[i],coeff) for i in range(len(X))])\n",
    "slope = 0\n",
    "intercept = 0"
   ]
  },
  {
   "cell_type": "code",
   "execution_count": 11,
   "metadata": {},
   "outputs": [],
   "source": [
    "def train(x,y,coeff,learningRate, iterations):\n",
    "    n = len(x)\n",
    "    for _ in range(iterations):\n",
    "        y_pred = np.dot(x**2, coeff[2]) + np.dot(x, coeff[1]) + coeff[2]\n",
    "        error = y-y_pred\n",
    "        alpha2_gradient = (-1/2*n)* np.dot((x**2).T, error)\n",
    "        alpha1_gradient = (-1/2*n)* np.dot(x.T, error)\n",
    "        alpha0_gradient =  (-1/n)*np.sum(error)\n",
    "        # print(alpha2_gradient.shape)\n",
    "        # print(alpha1_gradient.shape)\n",
    "        # print(alpha0_gradient.shape)\n",
    "\n",
    "        coeff_gradient = np.array([alpha2_gradient, alpha1_gradient, alpha0_gradient])\n",
    "        \n",
    "        coeff -= coeff_gradient*learningRate\n",
    "\n",
    "    return coeff"
   ]
  },
  {
   "cell_type": "code",
   "execution_count": 12,
   "metadata": {},
   "outputs": [],
   "source": [
    "def predict(x, coeff):\n",
    "    return np.dot(x**2, coeff[2]) + np.dot(x, coeff[1]) + coeff[2]"
   ]
  },
  {
   "cell_type": "code",
   "execution_count": 13,
   "metadata": {
    "scrolled": true
   },
   "outputs": [
    {
     "name": "stdout",
     "output_type": "stream",
     "text": [
      "[0.69276487 0.34284496 0.01290952]\n"
     ]
    },
    {
     "data": {
      "image/png": "[encoded data removed]",
      "text/plain": [
       "<Figure size 640x480 with 1 Axes>"
      ]
     },
     "metadata": {},
     "output_type": "display_data"
    },
    {
     "name": "stdout",
     "output_type": "stream",
     "text": [
      "SSE:  7.390411939981295\n"
     ]
    }
   ],
   "source": [
    "coeff = train(X, Y,coeff, learningRate, iterations)\n",
    "print(coeff)\n",
    "plt.scatter(X, Y,color='g') \n",
    "p = np.poly1d( np.polyfit(X, Y, 2) )\n",
    "t = np.linspace(0, 3, 6)\n",
    "plt.plot(X, Y, 'o', t, p(t), '-')\n",
    "plt.show()\n",
    "print(\"SSE: \",sum_squared_error(X,Y))"
   ]
  },
  {
   "cell_type": "code",
   "execution_count": 6,
   "metadata": {},
   "outputs": [],
   "source": [
    "def sum_squared_error(X,Y):\n",
    "    predicted = predict(X,coeff)\n",
    "    return sum([(Y[i]-predicted[i])**2 for i in range(len(X))])"
   ]
  },
  {
   "cell_type": "code",
   "execution_count": null,
   "metadata": {},
   "outputs": [],
   "source": []
  }
 ],
 "metadata": {
  "kernelspec": {
   "display_name": "Python 3 (ipykernel)",
   "language": "python",
   "name": "python3"
  },
  "language_info": {
   "codemirror_mode": {
    "name": "ipython",
    "version": 3
   },
   "file_extension": ".py",
   "mimetype": "text/x-python",
   "name": "python",
   "nbconvert_exporter": "python",
   "pygments_lexer": "ipython3",
   "version": "3.11.5"
  }
 },
 "nbformat": 4,
 "nbformat_minor": 4
}
