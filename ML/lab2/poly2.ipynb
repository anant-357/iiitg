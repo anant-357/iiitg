{
 "cells": [
  {
   "cell_type": "code",
   "execution_count": null,
   "metadata": {},
   "outputs": [],
   "source": [
    "%matplotlib inline\n",
    "import numpy as np\n",
    "import matplotlib.pyplot as plt\n",
    "import random"
   ]
  },
  {
   "cell_type": "code",
   "execution_count": null,
   "metadata": {},
   "outputs": [],
   "source": [
    "def function(x):\n",
    "    return x**0.5 + 1.7"
   ]
  },
  {
   "cell_type": "code",
   "execution_count": null,
   "metadata": {},
   "outputs": [],
   "source": [
    "x = np.array([random.uniform(1,3) for i in range(6)])\n",
    "y = np.array([function(x[i]) for i in range(6)])\n",
    "learningRate = 0.002\n",
    "iterations = 3\n",
    "slope = 0\n",
    "intercept = 0"
   ]
  },
  {
   "cell_type": "code",
   "execution_count": null,
   "metadata": {},
   "outputs": [],
   "source": [
    "def train(x,y,slope,intercept,learningRate, iterations):\n",
    "    n = len(x)\n",
    "    for _ in range(iterations):\n",
    "        y_pred = predict(x,slope,intercept)\n",
    "        error = y-y_pred\n",
    "        slope_gradient = (-1/2*n)* np.dot(x.T, error)\n",
    "        intercept_gradient =  (-1/n)*np.sum(error)\n",
    "\n",
    "        slope -= slope_gradient*learningRate\n",
    "        intercept -= intercept_gradient*learningRate\n",
    "        print(\"cost: \", sum(error))\n",
    "        print(\"slope: \", slope, \"intercept: \", intercept)\n",
    "        plt.plot(x,predict(x,slope,intercept), color='r')\n",
    "\n",
    "\n",
    "    return slope, intercept"
   ]
  },
  {
   "cell_type": "code",
   "execution_count": null,
   "metadata": {},
   "outputs": [],
   "source": [
    "slope = 0\n",
    "intercept = 0\n",
    "slope, intercept = train(x, y,slope,intercept, learningRate, iterations)\n",
    "# plt.cla()\n",
    "plt.scatter(x, y,color='g') \n",
    "plt.show()\n"
   ]
  },
  {
   "cell_type": "code",
   "execution_count": null,
   "metadata": {},
   "outputs": [],
   "source": [
    "def predict(x, slope, intercept):\n",
    "    return np.dot(x, slope) + intercept"
   ]
  },
  {
   "cell_type": "code",
   "execution_count": null,
   "metadata": {},
   "outputs": [],
   "source": []
  }
 ],
 "metadata": {
  "kernelspec": {
   "display_name": "Python 3 (ipykernel)",
   "language": "python",
   "name": "python3"
  },
  "language_info": {
   "codemirror_mode": {
    "name": "ipython",
    "version": 3
   },
   "file_extension": ".py",
   "mimetype": "text/x-python",
   "name": "python",
   "nbconvert_exporter": "python",
   "pygments_lexer": "ipython3",
   "version": "3.11.5"
  }
 },
 "nbformat": 4,
 "nbformat_minor": 4
}
